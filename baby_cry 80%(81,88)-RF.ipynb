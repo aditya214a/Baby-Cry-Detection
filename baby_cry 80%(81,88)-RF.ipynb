{
 "cells": [
  {
   "cell_type": "code",
   "execution_count": 1,
   "metadata": {},
   "outputs": [
    {
     "name": "stderr",
     "output_type": "stream",
     "text": [
      "C:\\Users\\User\\Anaconda3\\lib\\site-packages\\sklearn\\linear_model\\least_angle.py:35: DeprecationWarning: `np.float` is a deprecated alias for the builtin `float`. To silence this warning, use `float` by itself. Doing this will not modify any behavior and is safe. If you specifically wanted the numpy scalar type, use `np.float64` here.\n",
      "Deprecated in NumPy 1.20; for more details and guidance: https://numpy.org/devdocs/release/1.20.0-notes.html#deprecations\n",
      "  eps=np.finfo(np.float).eps,\n",
      "C:\\Users\\User\\Anaconda3\\lib\\site-packages\\sklearn\\linear_model\\least_angle.py:597: DeprecationWarning: `np.float` is a deprecated alias for the builtin `float`. To silence this warning, use `float` by itself. Doing this will not modify any behavior and is safe. If you specifically wanted the numpy scalar type, use `np.float64` here.\n",
      "Deprecated in NumPy 1.20; for more details and guidance: https://numpy.org/devdocs/release/1.20.0-notes.html#deprecations\n",
      "  eps=np.finfo(np.float).eps, copy_X=True, fit_path=True,\n",
      "C:\\Users\\User\\Anaconda3\\lib\\site-packages\\sklearn\\linear_model\\least_angle.py:836: DeprecationWarning: `np.float` is a deprecated alias for the builtin `float`. To silence this warning, use `float` by itself. Doing this will not modify any behavior and is safe. If you specifically wanted the numpy scalar type, use `np.float64` here.\n",
      "Deprecated in NumPy 1.20; for more details and guidance: https://numpy.org/devdocs/release/1.20.0-notes.html#deprecations\n",
      "  eps=np.finfo(np.float).eps, copy_X=True, fit_path=True,\n",
      "C:\\Users\\User\\Anaconda3\\lib\\site-packages\\sklearn\\linear_model\\least_angle.py:862: DeprecationWarning: `np.float` is a deprecated alias for the builtin `float`. To silence this warning, use `float` by itself. Doing this will not modify any behavior and is safe. If you specifically wanted the numpy scalar type, use `np.float64` here.\n",
      "Deprecated in NumPy 1.20; for more details and guidance: https://numpy.org/devdocs/release/1.20.0-notes.html#deprecations\n",
      "  eps=np.finfo(np.float).eps, positive=False):\n",
      "C:\\Users\\User\\Anaconda3\\lib\\site-packages\\sklearn\\linear_model\\least_angle.py:1097: DeprecationWarning: `np.float` is a deprecated alias for the builtin `float`. To silence this warning, use `float` by itself. Doing this will not modify any behavior and is safe. If you specifically wanted the numpy scalar type, use `np.float64` here.\n",
      "Deprecated in NumPy 1.20; for more details and guidance: https://numpy.org/devdocs/release/1.20.0-notes.html#deprecations\n",
      "  max_n_alphas=1000, n_jobs=None, eps=np.finfo(np.float).eps,\n",
      "C:\\Users\\User\\Anaconda3\\lib\\site-packages\\sklearn\\linear_model\\least_angle.py:1344: DeprecationWarning: `np.float` is a deprecated alias for the builtin `float`. To silence this warning, use `float` by itself. Doing this will not modify any behavior and is safe. If you specifically wanted the numpy scalar type, use `np.float64` here.\n",
      "Deprecated in NumPy 1.20; for more details and guidance: https://numpy.org/devdocs/release/1.20.0-notes.html#deprecations\n",
      "  max_n_alphas=1000, n_jobs=None, eps=np.finfo(np.float).eps,\n",
      "C:\\Users\\User\\Anaconda3\\lib\\site-packages\\sklearn\\linear_model\\least_angle.py:1480: DeprecationWarning: `np.float` is a deprecated alias for the builtin `float`. To silence this warning, use `float` by itself. Doing this will not modify any behavior and is safe. If you specifically wanted the numpy scalar type, use `np.float64` here.\n",
      "Deprecated in NumPy 1.20; for more details and guidance: https://numpy.org/devdocs/release/1.20.0-notes.html#deprecations\n",
      "  eps=np.finfo(np.float).eps, copy_X=True, positive=False):\n",
      "C:\\Users\\User\\Anaconda3\\lib\\site-packages\\sklearn\\linear_model\\randomized_l1.py:152: DeprecationWarning: `np.float` is a deprecated alias for the builtin `float`. To silence this warning, use `float` by itself. Doing this will not modify any behavior and is safe. If you specifically wanted the numpy scalar type, use `np.float64` here.\n",
      "Deprecated in NumPy 1.20; for more details and guidance: https://numpy.org/devdocs/release/1.20.0-notes.html#deprecations\n",
      "  precompute=False, eps=np.finfo(np.float).eps,\n",
      "C:\\Users\\User\\Anaconda3\\lib\\site-packages\\sklearn\\linear_model\\randomized_l1.py:320: DeprecationWarning: `np.float` is a deprecated alias for the builtin `float`. To silence this warning, use `float` by itself. Doing this will not modify any behavior and is safe. If you specifically wanted the numpy scalar type, use `np.float64` here.\n",
      "Deprecated in NumPy 1.20; for more details and guidance: https://numpy.org/devdocs/release/1.20.0-notes.html#deprecations\n",
      "  eps=np.finfo(np.float).eps, random_state=None,\n",
      "C:\\Users\\User\\Anaconda3\\lib\\site-packages\\sklearn\\linear_model\\randomized_l1.py:580: DeprecationWarning: `np.float` is a deprecated alias for the builtin `float`. To silence this warning, use `float` by itself. Doing this will not modify any behavior and is safe. If you specifically wanted the numpy scalar type, use `np.float64` here.\n",
      "Deprecated in NumPy 1.20; for more details and guidance: https://numpy.org/devdocs/release/1.20.0-notes.html#deprecations\n",
      "  eps=4 * np.finfo(np.float).eps, n_jobs=None,\n",
      "C:\\Users\\User\\Anaconda3\\lib\\site-packages\\sklearn\\decomposition\\online_lda.py:31: DeprecationWarning: `np.float` is a deprecated alias for the builtin `float`. To silence this warning, use `float` by itself. Doing this will not modify any behavior and is safe. If you specifically wanted the numpy scalar type, use `np.float64` here.\n",
      "Deprecated in NumPy 1.20; for more details and guidance: https://numpy.org/devdocs/release/1.20.0-notes.html#deprecations\n",
      "  EPS = np.finfo(np.float).eps\n",
      "C:\\Users\\User\\Anaconda3\\lib\\site-packages\\sklearn\\feature_extraction\\image.py:167: DeprecationWarning: `np.int` is a deprecated alias for the builtin `int`. To silence this warning, use `int` by itself. Doing this will not modify any behavior and is safe. When replacing `np.int`, you may wish to use e.g. `np.int64` or `np.int32` to specify the precision. If you wish to review your current use, check the release note link for additional information.\n",
      "Deprecated in NumPy 1.20; for more details and guidance: https://numpy.org/devdocs/release/1.20.0-notes.html#deprecations\n",
      "  dtype=np.int):\n"
     ]
    }
   ],
   "source": [
    "import IPython.display as ipd\n",
    "import numpy as np\n",
    "import pandas as pd\n",
    "import librosa\n",
    "import matplotlib.pyplot as plt\n",
    "from scipy.io import wavfile as wav\n",
    "from sklearn import metrics \n",
    "from sklearn.preprocessing import LabelEncoder,StandardScaler\n",
    "from sklearn.model_selection import train_test_split \n",
    "from keras.models import Sequential\n",
    "from keras.layers import Dense, Dropout, Activation, LayerNormalization,MaxPool2D\n",
    "from keras.layers import Activation, Dense, Dropout, Conv2D, Flatten, MaxPooling2D, GlobalMaxPooling2D, GlobalAveragePooling1D, AveragePooling2D, Input, Add\n",
    "from keras.models import Sequential\n",
    "from keras.utils import to_categorical\n",
    "from keras.optimizers import Adam\n",
    "from keras.utils import to_categorical \n",
    "from python_speech_features import mfcc, logfbank\n",
    "import csv\n",
    "import os\n",
    "from keras import layers\n",
    "%matplotlib inline"
   ]
  },
  {
   "cell_type": "code",
   "execution_count": null,
   "metadata": {},
   "outputs": [],
   "source": [
    "header = 'filename'\n",
    "for i in range(1, 41):\n",
    "    header += f' mfcc{i}'\n",
    "header += ' label'\n",
    "header = header.split()"
   ]
  },
  {
   "cell_type": "code",
   "execution_count": null,
   "metadata": {},
   "outputs": [],
   "source": [
    "import python_speech_features\n",
    "file = open('dataset.csv', 'w', newline='')\n",
    "with file:\n",
    "    writer = csv.writer(file)\n",
    "    writer.writerow(header)\n",
    "genres = 'cry no_cry'.split()\n",
    "for g in genres:\n",
    "    for filename in os.listdir(f'ba_cry/{g}'):\n",
    "        songname = f'ba_cry/{g}/{filename}'\n",
    "        y, sr = librosa.load(songname, mono=True, duration=7)\n",
    "        mfcc = librosa.feature.mfcc(y=y, sr=sr,n_mfcc=40)\n",
    "#         mfcc = logfbank(y, samplerate=sr, winlen=0.025, winstep=0.01, nfilt=26, nfft=551)\n",
    "        to_append = f'{filename}'    \n",
    "        for e in mfcc:\n",
    "                to_append += f' {np.mean(e)}'\n",
    "        to_append += f' {g}'\n",
    "        file = open('dataset.csv', 'a', newline='')\n",
    "        with file:\n",
    "            writer = csv.writer(file)\n",
    "            writer.writerow(to_append.split())"
   ]
  },
  {
   "cell_type": "code",
   "execution_count": 2,
   "metadata": {},
   "outputs": [],
   "source": [
    "data = pd.read_csv('dataset.csv')\n",
    "data = data.drop(['filename'],axis=1)#Encoding the Labels\n",
    "genre_list = data.iloc[:, -1]\n",
    "encoder = LabelEncoder()\n",
    "y = encoder.fit_transform(genre_list)#Scaling the Feature columns\n",
    "scaler = StandardScaler()\n",
    "# X =np.array(data.iloc[:, :-1], dtype = float)\n",
    "X = scaler.fit_transform(np.array(data.iloc[:, :-1], dtype = float))#Dividing data into training and Testing set\n",
    "X_train, X_test, y_train, y_test = train_test_split(X, y, test_size=0.2)"
   ]
  },
  {
   "cell_type": "raw",
   "metadata": {},
   "source": [
    "import pickle\n",
    "with open('scaler_param.obj', 'wb') as f:\n",
    "    pickle.dump(scaler, f)"
   ]
  },
  {
   "cell_type": "code",
   "execution_count": 3,
   "metadata": {},
   "outputs": [],
   "source": [
    "model = Sequential()\n",
    "# model.add(Conv2D(16, (3, 3), activation='relu', strides=(1, 1),padding='same', input_shape=X_train.shape[1]))\n",
    "# model.add(Conv2D(32, (3, 3), activation='relu', strides=(1, 1),padding='same')) \n",
    "# model.add(Conv2D(64, (3, 3), activation='relu', strides=(1, 1),padding='same'))\n",
    "# model.add(MaxPool2D ((2, 2)))\n",
    "# model.add(Dropout(0.5))\n",
    "model.add(layers.Dense(256, activation='relu'))\n",
    "model.add(Dropout(0.5))\n",
    "model.add(layers.Dense(256, activation='relu'))\n",
    "model.add(Dropout(0.5))\n",
    "model.add(layers.Dense(256, activation='relu'))\n",
    "model.add(Dropout(0.5))\n",
    "model.add(layers.Dense(2, activation='softmax'))\n",
    "model.compile(optimizer='adam',loss='sparse_categorical_crossentropy',metrics=['accuracy'])"
   ]
  },
  {
   "cell_type": "code",
   "execution_count": 4,
   "metadata": {},
   "outputs": [
    {
     "name": "stdout",
     "output_type": "stream",
     "text": [
      "Epoch 1/50\n",
      "1/1 [==============================] - ETA: 0s - loss: 0.8224 - accuracy: 0.51 - 0s 9ms/step - loss: 0.8224 - accuracy: 0.5189\n",
      "Epoch 2/50\n",
      "1/1 [==============================] - ETA: 0s - loss: 0.6708 - accuracy: 0.58 - 0s 9ms/step - loss: 0.6708 - accuracy: 0.5849\n",
      "Epoch 3/50\n",
      "1/1 [==============================] - ETA: 0s - loss: 0.7492 - accuracy: 0.62 - 0s 7ms/step - loss: 0.7492 - accuracy: 0.6226\n",
      "Epoch 4/50\n",
      "1/1 [==============================] - ETA: 0s - loss: 0.7164 - accuracy: 0.69 - 0s 8ms/step - loss: 0.7164 - accuracy: 0.6981\n",
      "Epoch 5/50\n",
      "1/1 [==============================] - ETA: 0s - loss: 0.6414 - accuracy: 0.68 - 0s 10ms/step - loss: 0.6414 - accuracy: 0.6887\n",
      "Epoch 6/50\n",
      "1/1 [==============================] - ETA: 0s - loss: 0.6146 - accuracy: 0.75 - 0s 6ms/step - loss: 0.6146 - accuracy: 0.7547\n",
      "Epoch 7/50\n",
      "1/1 [==============================] - ETA: 0s - loss: 0.5695 - accuracy: 0.71 - 0s 6ms/step - loss: 0.5695 - accuracy: 0.7170\n",
      "Epoch 8/50\n",
      "1/1 [==============================] - ETA: 0s - loss: 0.6021 - accuracy: 0.72 - 0s 6ms/step - loss: 0.6021 - accuracy: 0.7264\n",
      "Epoch 9/50\n",
      "1/1 [==============================] - ETA: 0s - loss: 0.5092 - accuracy: 0.74 - 0s 7ms/step - loss: 0.5092 - accuracy: 0.7453\n",
      "Epoch 10/50\n",
      "1/1 [==============================] - ETA: 0s - loss: 0.4748 - accuracy: 0.74 - 0s 6ms/step - loss: 0.4748 - accuracy: 0.7453\n",
      "Epoch 11/50\n",
      "1/1 [==============================] - ETA: 0s - loss: 0.5342 - accuracy: 0.73 - 0s 7ms/step - loss: 0.5342 - accuracy: 0.7358\n",
      "Epoch 12/50\n",
      "1/1 [==============================] - ETA: 0s - loss: 0.4596 - accuracy: 0.82 - 0s 6ms/step - loss: 0.4596 - accuracy: 0.8208\n",
      "Epoch 13/50\n",
      "1/1 [==============================] - ETA: 0s - loss: 0.4439 - accuracy: 0.83 - 0s 7ms/step - loss: 0.4439 - accuracy: 0.8302\n",
      "Epoch 14/50\n",
      "1/1 [==============================] - ETA: 0s - loss: 0.4368 - accuracy: 0.78 - 0s 7ms/step - loss: 0.4368 - accuracy: 0.7830\n",
      "Epoch 15/50\n",
      "1/1 [==============================] - ETA: 0s - loss: 0.3898 - accuracy: 0.85 - 0s 6ms/step - loss: 0.3898 - accuracy: 0.8585\n",
      "Epoch 16/50\n",
      "1/1 [==============================] - ETA: 0s - loss: 0.4736 - accuracy: 0.81 - 0s 7ms/step - loss: 0.4736 - accuracy: 0.8113\n",
      "Epoch 17/50\n",
      "1/1 [==============================] - ETA: 0s - loss: 0.3607 - accuracy: 0.84 - 0s 8ms/step - loss: 0.3607 - accuracy: 0.8491\n",
      "Epoch 18/50\n",
      "1/1 [==============================] - ETA: 0s - loss: 0.3456 - accuracy: 0.86 - 0s 9ms/step - loss: 0.3456 - accuracy: 0.8679\n",
      "Epoch 19/50\n",
      "1/1 [==============================] - ETA: 0s - loss: 0.3525 - accuracy: 0.83 - 0s 7ms/step - loss: 0.3525 - accuracy: 0.8396\n",
      "Epoch 20/50\n",
      "1/1 [==============================] - ETA: 0s - loss: 0.3460 - accuracy: 0.83 - 0s 7ms/step - loss: 0.3460 - accuracy: 0.8396\n",
      "Epoch 21/50\n",
      "1/1 [==============================] - ETA: 0s - loss: 0.3180 - accuracy: 0.84 - 0s 7ms/step - loss: 0.3180 - accuracy: 0.8491\n",
      "Epoch 22/50\n",
      "1/1 [==============================] - ETA: 0s - loss: 0.3241 - accuracy: 0.85 - 0s 9ms/step - loss: 0.3241 - accuracy: 0.8585\n",
      "Epoch 23/50\n",
      "1/1 [==============================] - ETA: 0s - loss: 0.2541 - accuracy: 0.88 - 0s 7ms/step - loss: 0.2541 - accuracy: 0.8868\n",
      "Epoch 24/50\n",
      "1/1 [==============================] - ETA: 0s - loss: 0.2592 - accuracy: 0.89 - 0s 7ms/step - loss: 0.2592 - accuracy: 0.8962\n",
      "Epoch 25/50\n",
      "1/1 [==============================] - ETA: 0s - loss: 0.2649 - accuracy: 0.89 - 0s 7ms/step - loss: 0.2649 - accuracy: 0.8962\n",
      "Epoch 26/50\n",
      "1/1 [==============================] - ETA: 0s - loss: 0.2925 - accuracy: 0.83 - 0s 9ms/step - loss: 0.2925 - accuracy: 0.8302\n",
      "Epoch 27/50\n",
      "1/1 [==============================] - ETA: 0s - loss: 0.2059 - accuracy: 0.92 - 0s 7ms/step - loss: 0.2059 - accuracy: 0.9245\n",
      "Epoch 28/50\n",
      "1/1 [==============================] - ETA: 0s - loss: 0.2578 - accuracy: 0.87 - 0s 9ms/step - loss: 0.2578 - accuracy: 0.8774\n",
      "Epoch 29/50\n",
      "1/1 [==============================] - ETA: 0s - loss: 0.2146 - accuracy: 0.91 - 0s 7ms/step - loss: 0.2146 - accuracy: 0.9151\n",
      "Epoch 30/50\n",
      "1/1 [==============================] - ETA: 0s - loss: 0.1691 - accuracy: 0.95 - 0s 7ms/step - loss: 0.1691 - accuracy: 0.9528\n",
      "Epoch 31/50\n",
      "1/1 [==============================] - ETA: 0s - loss: 0.1941 - accuracy: 0.90 - 0s 7ms/step - loss: 0.1941 - accuracy: 0.9057\n",
      "Epoch 32/50\n",
      "1/1 [==============================] - ETA: 0s - loss: 0.2776 - accuracy: 0.88 - 0s 7ms/step - loss: 0.2776 - accuracy: 0.8868\n",
      "Epoch 33/50\n",
      "1/1 [==============================] - ETA: 0s - loss: 0.2074 - accuracy: 0.88 - 0s 9ms/step - loss: 0.2074 - accuracy: 0.8868\n",
      "Epoch 34/50\n",
      "1/1 [==============================] - ETA: 0s - loss: 0.1820 - accuracy: 0.92 - 0s 11ms/step - loss: 0.1820 - accuracy: 0.9245\n",
      "Epoch 35/50\n",
      "1/1 [==============================] - ETA: 0s - loss: 0.1549 - accuracy: 0.93 - 0s 8ms/step - loss: 0.1549 - accuracy: 0.9340\n",
      "Epoch 36/50\n",
      "1/1 [==============================] - ETA: 0s - loss: 0.1870 - accuracy: 0.93 - 0s 8ms/step - loss: 0.1870 - accuracy: 0.9340\n",
      "Epoch 37/50\n",
      "1/1 [==============================] - ETA: 0s - loss: 0.1221 - accuracy: 0.95 - 0s 11ms/step - loss: 0.1221 - accuracy: 0.9528\n",
      "Epoch 38/50\n",
      "1/1 [==============================] - ETA: 0s - loss: 0.1492 - accuracy: 0.95 - 0s 7ms/step - loss: 0.1492 - accuracy: 0.9528\n",
      "Epoch 39/50\n",
      "1/1 [==============================] - ETA: 0s - loss: 0.1331 - accuracy: 0.95 - 0s 7ms/step - loss: 0.1331 - accuracy: 0.9528\n",
      "Epoch 40/50\n",
      "1/1 [==============================] - ETA: 0s - loss: 0.1098 - accuracy: 0.95 - 0s 24ms/step - loss: 0.1098 - accuracy: 0.9528\n",
      "Epoch 41/50\n",
      "1/1 [==============================] - ETA: 0s - loss: 0.1119 - accuracy: 0.93 - 0s 8ms/step - loss: 0.1119 - accuracy: 0.9340\n",
      "Epoch 42/50\n",
      "1/1 [==============================] - ETA: 0s - loss: 0.1641 - accuracy: 0.94 - 0s 7ms/step - loss: 0.1641 - accuracy: 0.9434\n",
      "Epoch 43/50\n",
      "1/1 [==============================] - ETA: 0s - loss: 0.1072 - accuracy: 0.94 - 0s 6ms/step - loss: 0.1072 - accuracy: 0.9434\n",
      "Epoch 44/50\n",
      "1/1 [==============================] - ETA: 0s - loss: 0.0988 - accuracy: 0.97 - 0s 8ms/step - loss: 0.0988 - accuracy: 0.9717\n",
      "Epoch 45/50\n",
      "1/1 [==============================] - ETA: 0s - loss: 0.0764 - accuracy: 0.98 - 0s 7ms/step - loss: 0.0764 - accuracy: 0.9811\n",
      "Epoch 46/50\n",
      "1/1 [==============================] - ETA: 0s - loss: 0.0969 - accuracy: 0.96 - 0s 7ms/step - loss: 0.0969 - accuracy: 0.9623\n",
      "Epoch 47/50\n",
      "1/1 [==============================] - ETA: 0s - loss: 0.0818 - accuracy: 0.97 - 0s 7ms/step - loss: 0.0818 - accuracy: 0.9717\n",
      "Epoch 48/50\n",
      "1/1 [==============================] - ETA: 0s - loss: 0.0591 - accuracy: 0.98 - 0s 6ms/step - loss: 0.0591 - accuracy: 0.9811\n",
      "Epoch 49/50\n",
      "1/1 [==============================] - ETA: 0s - loss: 0.1602 - accuracy: 0.93 - 0s 6ms/step - loss: 0.1602 - accuracy: 0.9340\n",
      "Epoch 50/50\n",
      "1/1 [==============================] - ETA: 0s - loss: 0.0869 - accuracy: 0.98 - 0s 7ms/step - loss: 0.0869 - accuracy: 0.9811\n"
     ]
    },
    {
     "data": {
      "text/plain": [
       "<tensorflow.python.keras.callbacks.History at 0x26f3fad3390>"
      ]
     },
     "execution_count": 4,
     "metadata": {},
     "output_type": "execute_result"
    }
   ],
   "source": [
    "model.fit(X_train,y_train,shuffle=True,epochs=50,batch_size=128)"
   ]
  },
  {
   "cell_type": "raw",
   "metadata": {},
   "source": [
    "from keras.models import load_model\n",
    "model = load_model('ff_nn_v_Ac88_Be.h5')\n",
    "model.load_weights('ff_nn_v_Ac88_Be_weights.h5')"
   ]
  },
  {
   "cell_type": "code",
   "execution_count": 5,
   "metadata": {},
   "outputs": [
    {
     "name": "stdout",
     "output_type": "stream",
     "text": [
      "* recording\n",
      "* done recording\n"
     ]
    }
   ],
   "source": [
    "import pyaudio\n",
    "import wave\n",
    "\n",
    "CHUNK = 1024\n",
    "FORMAT = pyaudio.paInt16\n",
    "CHANNELS = 1\n",
    "RATE = 44100\n",
    "RECORD_SECONDS = 5\n",
    "WAVE_OUTPUT_FILENAME = \"output.wav\"\n",
    "\n",
    "p = pyaudio.PyAudio()\n",
    "\n",
    "stream = p.open(format=FORMAT,\n",
    "                channels=CHANNELS,\n",
    "                rate=RATE,\n",
    "                input=True,\n",
    "                frames_per_buffer=CHUNK)\n",
    "\n",
    "print(\"* recording\")\n",
    "\n",
    "frames = []\n",
    "\n",
    "for i in range(0, int(RATE / CHUNK * RECORD_SECONDS)):\n",
    "    data = stream.read(CHUNK)\n",
    "    frames.append(data)\n",
    "\n",
    "print(\"* done recording\")\n",
    "\n",
    "stream.stop_stream()\n",
    "stream.close()\n",
    "p.terminate()\n",
    "\n",
    "wf = wave.open(WAVE_OUTPUT_FILENAME, 'wb')\n",
    "wf.setnchannels(CHANNELS)\n",
    "wf.setsampwidth(p.get_sample_size(FORMAT))\n",
    "wf.setframerate(RATE)\n",
    "wf.writeframes(b''.join(frames))\n",
    "wf.close()"
   ]
  },
  {
   "cell_type": "code",
   "execution_count": 6,
   "metadata": {
    "scrolled": true
   },
   "outputs": [
    {
     "ename": "AttributeError",
     "evalue": "module 'librosa' has no attribute 'display'",
     "output_type": "error",
     "traceback": [
      "\u001b[1;31m---------------------------------------------------------------------------\u001b[0m",
      "\u001b[1;31mAttributeError\u001b[0m                            Traceback (most recent call last)",
      "\u001b[1;32m<ipython-input-6-ad3d77c13ce1>\u001b[0m in \u001b[0;36m<module>\u001b[1;34m\u001b[0m\n\u001b[0;32m     14\u001b[0m \u001b[0mtimes\u001b[0m \u001b[1;33m=\u001b[0m \u001b[0mlibrosa\u001b[0m\u001b[1;33m.\u001b[0m\u001b[0mtimes_like\u001b[0m\u001b[1;33m(\u001b[0m\u001b[0monset_env\u001b[0m\u001b[1;33m,\u001b[0m \u001b[0msr\u001b[0m\u001b[1;33m=\u001b[0m\u001b[0msr\u001b[0m\u001b[1;33m,\u001b[0m \u001b[0mhop_length\u001b[0m\u001b[1;33m=\u001b[0m\u001b[0mhop_length\u001b[0m\u001b[1;33m)\u001b[0m\u001b[1;33m\u001b[0m\u001b[1;33m\u001b[0m\u001b[0m\n\u001b[0;32m     15\u001b[0m \u001b[0mM\u001b[0m \u001b[1;33m=\u001b[0m \u001b[0mlibrosa\u001b[0m\u001b[1;33m.\u001b[0m\u001b[0mfeature\u001b[0m\u001b[1;33m.\u001b[0m\u001b[0mmelspectrogram\u001b[0m\u001b[1;33m(\u001b[0m\u001b[0my\u001b[0m\u001b[1;33m=\u001b[0m\u001b[0my\u001b[0m\u001b[1;33m,\u001b[0m \u001b[0msr\u001b[0m\u001b[1;33m=\u001b[0m\u001b[0msr\u001b[0m\u001b[1;33m,\u001b[0m \u001b[0mhop_length\u001b[0m\u001b[1;33m=\u001b[0m\u001b[0mhop_length\u001b[0m\u001b[1;33m)\u001b[0m\u001b[1;33m\u001b[0m\u001b[1;33m\u001b[0m\u001b[0m\n\u001b[1;32m---> 16\u001b[1;33m librosa.display.specshow(librosa.power_to_db(M, ref=np.max),\n\u001b[0m\u001b[0;32m     17\u001b[0m                          \u001b[0my_axis\u001b[0m\u001b[1;33m=\u001b[0m\u001b[1;34m'mel'\u001b[0m\u001b[1;33m,\u001b[0m \u001b[0mx_axis\u001b[0m\u001b[1;33m=\u001b[0m\u001b[1;34m'time'\u001b[0m\u001b[1;33m,\u001b[0m \u001b[0mhop_length\u001b[0m\u001b[1;33m=\u001b[0m\u001b[0mhop_length\u001b[0m\u001b[1;33m,\u001b[0m\u001b[1;33m\u001b[0m\u001b[1;33m\u001b[0m\u001b[0m\n\u001b[0;32m     18\u001b[0m                          ax=ax[0])\n",
      "\u001b[1;31mAttributeError\u001b[0m: module 'librosa' has no attribute 'display'"
     ]
    },
    {
     "data": {
      "image/png": "[encoded data removed]",
      "text/plain": [
       "<Figure size 432x288 with 2 Axes>"
      ]
     },
     "metadata": {
      "needs_background": "light"
     },
     "output_type": "display_data"
    }
   ],
   "source": [
    "# import librosa.display\n",
    "y, sr = librosa.load('output2.wav', mono=True, duration=5)\n",
    "# print(y,sr)\n",
    "# y.shape\n",
    "# librosa.display.waveplot(y, sr=22050, max_points=50000.0, x_axis='time', offset=0.0, max_sr=1000, ax=None)\n",
    "librosa.frames_to_time(y, sr=sr)\n",
    "onset_env = librosa.onset.onset_strength(y, sr=sr,\n",
    "                                         aggregate=np.median)\n",
    "tempo, beats = librosa.beat.beat_track(onset_envelope=onset_env,\n",
    "                                       sr=sr)\n",
    "tempo\n",
    "hop_length = 512\n",
    "fig, ax = plt.subplots(nrows=2, sharex=True)\n",
    "times = librosa.times_like(onset_env, sr=sr, hop_length=hop_length)\n",
    "M = librosa.feature.melspectrogram(y=y, sr=sr, hop_length=hop_length)\n",
    "librosa.display.specshow(librosa.power_to_db(M, ref=np.max),\n",
    "                         y_axis='mel', x_axis='time', hop_length=hop_length,\n",
    "                         ax=ax[0])\n",
    "ax[0].label_outer()\n",
    "ax[0].set(title='Mel spectrogram')\n",
    "ax[1].plot(times, librosa.util.normalize(onset_env),\n",
    "         label='Onset strength')\n",
    "ax[1].vlines(times[beats], 0, 1, alpha=0.5, color='r',\n",
    "           linestyle='--', label='Beats')\n",
    "ax[1].legend()\n",
    "len(beats)"
   ]
  },
  {
   "cell_type": "code",
   "execution_count": null,
   "metadata": {},
   "outputs": [],
   "source": [
    "import librosa.display\n",
    "y, sr = librosa.load('output3.wav', mono=True, duration=5)\n",
    "print(y,sr)\n",
    "y.shape\n",
    "librosa.display.waveplot(y, sr=22050, max_points=50000.0, x_axis='time', offset=0.0, max_sr=1000, ax=None)"
   ]
  },
  {
   "cell_type": "code",
   "execution_count": 8,
   "metadata": {},
   "outputs": [],
   "source": [
    "header = 'filename'\n",
    "for i in range(1, 41):\n",
    "    header += f' mfcc{i}'\n",
    "header += ' label'\n",
    "header = header.split()"
   ]
  },
  {
   "cell_type": "code",
   "execution_count": 9,
   "metadata": {},
   "outputs": [],
   "source": [
    "file = open('predict.csv', 'w', newline='')\n",
    "with file:\n",
    "    writer = csv.writer(file)\n",
    "    writer.writerow(header)\n",
    "y, sr = librosa.load('output.wav', mono=True, duration=5)\n",
    "mfcc = librosa.feature.mfcc(y=y, sr=sr,n_mfcc=40)\n",
    "# mfcc = logfbank(y, samplerate=sr, winlen=0.025, winstep=0.01, nfilt=26, nfft=551)\n",
    "to_append = f'output.wav '   \n",
    "for e in mfcc:\n",
    "    to_append += f' {np.mean(e)}'\n",
    "file = open('predict.csv', 'a', newline='')\n",
    "with file:\n",
    "    writer = csv.writer(file)\n",
    "    writer.writerow(to_append.split())\n",
    "live_data = pd.read_csv('predict.csv')\n",
    "live_data = live_data.drop(['filename'],axis=1)"
   ]
  },
  {
   "cell_type": "code",
   "execution_count": 10,
   "metadata": {},
   "outputs": [
    {
     "name": "stdout",
     "output_type": "stream",
     "text": [
      "output.wav\n"
     ]
    }
   ],
   "source": [
    "op=list(to_append.split())\n",
    "print(op.pop(0))"
   ]
  },
  {
   "cell_type": "code",
   "execution_count": 11,
   "metadata": {},
   "outputs": [
    {
     "name": "stdout",
     "output_type": "stream",
     "text": [
      "['-469.6595153808594', '92.90167999267578', '20.11655616760254', '3.67458438873291', '4.789157390594482', '18.481462478637695', '11.253288269042969', '14.525856018066406', '7.521642684936523', '11.226836204528809', '1.6245520114898682', '4.196466445922852', '-2.0054752826690674', '6.082876682281494', '2.008265972137451', '7.849215984344482', '2.6197690963745117', '8.932061195373535', '4.19645881652832', '8.454045295715332', '1.820817470550537', '4.892759323120117', '-0.7629687190055847', '4.652968406677246', '0.5349199771881104', '4.013143539428711', '-1.2205383777618408', '3.6790363788604736', '0.6248512864112854', '5.122956275939941', '-1.0149644613265991', '2.7040393352508545', '-0.9766778349876404', '2.998404026031494', '-1.373092770576477', '2.631213665008545', '-0.8575320839881897', '3.389298677444458', '-0.21076714992523193', '2.5591413974761963']\n",
      "[[-1.09415429  0.85360139  1.50820267  0.02073364  0.87227302  1.21528748\n",
      "   1.2883153   1.01459596  0.88431852  1.12749174  0.35817728  0.29986946\n",
      "  -0.17673787  0.30787476  0.25962659  0.61221322  0.43914689  1.13587641\n",
      "   1.18726813  1.14750901  0.66794771  0.63989002  0.23699576  0.82645356\n",
      "   0.42440063  0.84911189 -0.14538666  0.53058079  0.45122626  0.8972732\n",
      "  -0.07255519  0.19699469  0.08463376  0.68533933 -0.20158801  0.56617977\n",
      "   0.00752698  0.85001279  0.39689289  0.71029461]]\n",
      "WARNING:tensorflow:From <ipython-input-11-81ef59356b00>:4: Sequential.predict_classes (from tensorflow.python.keras.engine.sequential) is deprecated and will be removed after 2021-01-01.\n",
      "Instructions for updating:\n",
      "Please use instead:* `np.argmax(model.predict(x), axis=-1)`,   if your model does multi-class classification   (e.g. if it uses a `softmax` last-layer activation).* `(model.predict(x) > 0.5).astype(\"int32\")`,   if your model does binary classification   (e.g. if it uses a `sigmoid` last-layer activation).\n",
      "Predicted=[1]\n",
      "No cry\n"
     ]
    }
   ],
   "source": [
    "print(op)\n",
    "Xnew = scaler.transform([op])\n",
    "print(Xnew)\n",
    "ynew = model.predict_classes(Xnew)\n",
    "print(\"Predicted=%s\" % (ynew))\n",
    "if ynew==0:\n",
    "    print('Cry')\n",
    "else:\n",
    "    print('No cry')"
   ]
  },
  {
   "cell_type": "code",
   "execution_count": null,
   "metadata": {},
   "outputs": [],
   "source": [
    "# Xnew = np.array([live_data.iloc[0][0:25]])\n",
    "# print(Xnew)\n",
    "# ynew = model.predict_classes(Xnew)\n",
    "# print(\"Predicted=%s\" % (ynew))\n",
    "# if ynew==0:\n",
    "#     print('Cry')\n",
    "# else:\n",
    "#     print('No cry')"
   ]
  },
  {
   "cell_type": "code",
   "execution_count": 19,
   "metadata": {
    "scrolled": true
   },
   "outputs": [
    {
     "name": "stdout",
     "output_type": "stream",
     "text": [
      "* recording\n",
      "output0.wav\n",
      "Predicting\n",
      "output1.wav\n",
      "Predicted=[[2.2010505e-04 9.9977988e-01]]\n",
      "No cry\n",
      "Predicting\n",
      "output2.wav\n",
      "Predicted=[[2.5534546e-05 9.9997449e-01]]\n",
      "No cry\n",
      "Predicting\n",
      "output3.wav\n",
      "Predicted=[[0.01209235 0.9879076 ]]\n",
      "No cry\n",
      "Predicting\n",
      "Done!\n",
      "Predicted=[[4.7135867e-08 1.0000000e+00]]\n",
      "No cry\n"
     ]
    }
   ],
   "source": [
    "import pyaudio\n",
    "import wave\n",
    "import pathlib\n",
    "import threading\n",
    "import csv\n",
    "import time\n",
    "\n",
    "# t1 = threading.Thread(target=print_square, args=(10,))\n",
    "# t2 = threading.Thread(target=print_cube, args=(10,))\n",
    "\n",
    "CHUNK = 1024\n",
    "FORMAT = pyaudio.paInt16\n",
    "CHANNELS = 1\n",
    "RATE = 44100\n",
    "RECORD_SECONDS = 5\n",
    "WAVE_OUTPUT_FILENAME = \"output.wav\"\n",
    "\n",
    "stop = 0\n",
    "\n",
    "\n",
    "p = pyaudio.PyAudio()\n",
    "\n",
    "stream = p.open(format=FORMAT,\n",
    "                channels=CHANNELS,\n",
    "                rate=RATE,\n",
    "                input=True,\n",
    "                frames_per_buffer=CHUNK)\n",
    "\n",
    "print(\"* recording\")\n",
    "\n",
    "\n",
    "def predict(name):\n",
    "    #Doing prediction\n",
    "#     cmap = plt.get_cmap('inferno')\n",
    "#     plt.figure(figsize=(8,8))\n",
    "#     pathlib.Path(f'live_data/').mkdir(parents=True, exist_ok=True)\n",
    "#     # for filename in os.listdir(f'b_cry/{g}'):\n",
    "    songname = name+'.wav'\n",
    "#     y, sr = librosa.load(songname, mono=True, duration=7)\n",
    "#     plt.specgram(y, NFFT=2048, Fs=2, Fc=0, noverlap=128, cmap=cmap, sides='default', mode='default', scale='dB');\n",
    "#     plt.axis('off');\n",
    "#     plt.savefig(f'live_data/{name}.png')\n",
    "#     plt.clf()\n",
    "\n",
    "    header = 'filename '\n",
    "    for i in range(1, 41):\n",
    "        header += f' mfcc{i}'\n",
    "    header += ' label'\n",
    "    header = header.split()\n",
    "\n",
    "    file = open(f'{name}.csv', 'w', newline='')\n",
    "    with file:\n",
    "        writer = csv.writer(file)\n",
    "        writer.writerow(header)\n",
    "    # genres = 'discomfort belly_pain burping hungry'.split()\n",
    "    # for g in genres:\n",
    "    #     for filename in os.listdir(f'b_cry/{g}'):\n",
    "    # songname = f'b_cry/{g}/{filename}'\n",
    "#     songname = f'output.wav'\n",
    "    y, sr = librosa.load(songname, mono=True, duration=5)\n",
    "    \n",
    "    mfcc = librosa.feature.mfcc(y=y, sr=sr,n_mfcc=40)\n",
    "    to_append = f'{name}.wav '   \n",
    "    for e in mfcc:\n",
    "        to_append += f' {np.mean(e)}'\n",
    "    # to_append += f' {model.predict(live_data.iloc[0])}'\n",
    "    #to_append += f' live_data_genre'\n",
    "    file = open(f'{name}.csv', 'a', newline='')\n",
    "    with file:\n",
    "        writer = csv.writer(file)\n",
    "        writer.writerow(to_append.split())\n",
    "    live_data = pd.read_csv(f'{name}.csv')\n",
    "    live_data = live_data.drop(['filename'],axis=1)\n",
    "\n",
    "    #print(live_data.iloc[0][0:26])\n",
    "    op=list(to_append.split())\n",
    "    op.pop(0)\n",
    "\n",
    "#     print(Xnew)\n",
    "    Xnew = scaler.transform([op])\n",
    "    ynew = model.predict_proba(Xnew)\n",
    "\n",
    "    print(\"Predicted=%s\" % (ynew))\n",
    "    if ynew[0][0]>ynew[0][1]:\n",
    "        print('Cry')\n",
    "    else:\n",
    "        print('No cry')\n",
    "\n",
    "\n",
    "# def record_audio():\n",
    "for j in range(0,4):\n",
    "    frames = []\n",
    "    songname = \"output\"+str(j)\n",
    "    WAVE_OUTPUT_FILENAME = \"output\"+str(j)+\".wav\"\n",
    "    print(WAVE_OUTPUT_FILENAME)\n",
    "    for i in range(0, int(RATE / CHUNK * RECORD_SECONDS)):\n",
    "        data = stream.read(CHUNK)\n",
    "        frames.append(data)\n",
    "\n",
    "    wf = wave.open(WAVE_OUTPUT_FILENAME, 'wb')\n",
    "    wf.setnchannels(CHANNELS)\n",
    "    wf.setsampwidth(p.get_sample_size(FORMAT))\n",
    "    wf.setframerate(RATE)\n",
    "    wf.writeframes(b''.join(frames))\n",
    "    \n",
    "    print(\"Predicting\")\n",
    "#     for i in range(0,5):\n",
    "#         print(str(i*100))\n",
    "#         time.sleep(0.5)\n",
    "    t2 = threading.Thread(target=predict, args=(songname,))\n",
    "    t2.start()\n",
    "    \n",
    "# if __name__ == \"__main__\":\n",
    "    # creating thread\n",
    "# t1 = threading.Thread(target=record_audio, args=())\n",
    "# t2 = threading.Thread(target=predict, args=())\n",
    "\n",
    "# while(stop==0):\n",
    "# t1.start()\n",
    "# t2.start()\n",
    "# t1.join()\n",
    "# t2.join()\n",
    "\n",
    "# both threads completely executed\n",
    "print(\"Done!\")"
   ]
  },
  {
   "cell_type": "code",
   "execution_count": 12,
   "metadata": {},
   "outputs": [
    {
     "name": "stdout",
     "output_type": "stream",
     "text": [
      "Training Accuracy: 100.00%\n",
      "Testing Accuracy: 88.89%\n"
     ]
    }
   ],
   "source": [
    "score = model.evaluate(X_train, y_train, verbose=0)\n",
    "print(\"Training Accuracy: {0:.2%}\".format(score[1]))\n",
    "score = model.evaluate(X_test, y_test, verbose=0)\n",
    "print(\"Testing Accuracy: {0:.2%}\".format(score[1]))"
   ]
  },
  {
   "cell_type": "code",
   "execution_count": null,
   "metadata": {},
   "outputs": [],
   "source": [
    "# from keras.models import load_model\n",
    "# model.save(\"ff_nn_v3_Ac88_Be.h5\")"
   ]
  },
  {
   "cell_type": "code",
   "execution_count": null,
   "metadata": {},
   "outputs": [],
   "source": [
    "# model.save_weights('ff_nn_v3_Ac88_Be_weights.h5')"
   ]
  },
  {
   "cell_type": "code",
   "execution_count": null,
   "metadata": {},
   "outputs": [],
   "source": []
  }
 ],
 "metadata": {
  "kernelspec": {
   "display_name": "Python 3",
   "language": "python",
   "name": "python3"
  },
  "language_info": {
   "codemirror_mode": {
    "name": "ipython",
    "version": 3
   },
   "file_extension": ".py",
   "mimetype": "text/x-python",
   "name": "python",
   "nbconvert_exporter": "python",
   "pygments_lexer": "ipython3",
   "version": "3.7.3"
  }
 },
 "nbformat": 4,
 "nbformat_minor": 2
}
