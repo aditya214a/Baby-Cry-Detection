{
 "cells": [
  {
   "cell_type": "code",
   "execution_count": 2,
   "metadata": {},
   "outputs": [],
   "source": [
    "import IPython.display as ipd\n",
    "import numpy as np\n",
    "import pandas as pd\n",
    "import librosa\n",
    "import matplotlib.pyplot as plt\n",
    "from scipy.io import wavfile as wav\n",
    "from sklearn import metrics \n",
    "from sklearn.preprocessing import LabelEncoder,StandardScaler\n",
    "from sklearn.model_selection import train_test_split \n",
    "from keras.models import Sequential\n",
    "from keras.layers import Dense, Dropout, Activation, LayerNormalization,MaxPool2D\n",
    "from keras.layers import Activation, Dense, Dropout, Conv2D, Flatten, MaxPooling2D, GlobalMaxPooling2D, GlobalAveragePooling1D, AveragePooling2D, Input, Add\n",
    "from keras.models import Sequential\n",
    "from keras.utils import to_categorical\n",
    "from keras.optimizers import Adam\n",
    "from keras.utils import to_categorical \n",
    "# from python_speech_features import mfcc, logfbank\n",
    "import csv\n",
    "import os\n",
    "from keras import layers\n",
    "%matplotlib inline"
   ]
  },
  {
   "cell_type": "code",
   "execution_count": null,
   "metadata": {},
   "outputs": [],
   "source": [
    "header = 'filename'\n",
    "for i in range(1, 26):\n",
    "    header += f' mfcc{i}'\n",
    "header += ' label'\n",
    "header = header.split()"
   ]
  },
  {
   "cell_type": "code",
   "execution_count": null,
   "metadata": {},
   "outputs": [],
   "source": [
    "file = open('dataset.csv', 'w', newline='')\n",
    "with file:\n",
    "    writer = csv.writer(file)\n",
    "    writer.writerow(header)\n",
    "genres = 'cry no_cry'.split()\n",
    "for g in genres:\n",
    "    for filename in os.listdir(f'ba_cry/{g}'):\n",
    "        songname = f'ba_cry/{g}/{filename}'\n",
    "        y, sr = librosa.load(songname, mono=True, duration=7)\n",
    "        mfcc = librosa.feature.mfcc(y=y, sr=sr,n_mfcc=25)\n",
    "        to_append = f'{filename}'    \n",
    "        for e in mfcc:\n",
    "            to_append += f' {np.mean(e)}'\n",
    "        to_append += f' {g}'\n",
    "        file = open('dataset.csv', 'a', newline='')\n",
    "        with file:\n",
    "            writer = csv.writer(file)\n",
    "            writer.writerow(to_append.split())"
   ]
  },
  {
   "cell_type": "code",
   "execution_count": 3,
   "metadata": {},
   "outputs": [],
   "source": [
    "data = pd.read_csv('dataset.csv')\n",
    "data.head()# Dropping unneccesary columns\n",
    "data = data.drop(['filename'],axis=1)#Encoding the Labels\n",
    "genre_list = data.iloc[:, -1]\n",
    "encoder = LabelEncoder()\n",
    "y = encoder.fit_transform(genre_list)#Scaling the Feature columns\n",
    "scaler = StandardScaler()\n",
    "# X =np.array(data.iloc[:, :-1], dtype = float)\n",
    "X = scaler.fit_transform(np.array(data.iloc[:, :-1], dtype = float))#Dividing data into training and Testing set\n",
    "X_train, X_test, y_train, y_test = train_test_split(X, y, test_size=0.2)"
   ]
  },
  {
   "cell_type": "code",
   "execution_count": 3,
   "metadata": {},
   "outputs": [],
   "source": [
    "model = Sequential()\n",
    "# model.add(Conv2D(16, (3, 3), activation='relu', strides=(1, 1),padding='same', input_shape=X_train.shape[1]))\n",
    "# model.add(Conv2D(32, (3, 3), activation='relu', strides=(1, 1),padding='same')) \n",
    "# model.add(Conv2D(64, (3, 3), activation='relu', strides=(1, 1),padding='same'))\n",
    "# model.add(MaxPool2D ((2, 2)))\n",
    "# model.add(Dropout(0.5))\n",
    "model.add(layers.Dense(256, activation='relu'))\n",
    "model.add(Dropout(0.5))\n",
    "model.add(layers.Dense(256, activation='relu'))\n",
    "model.add(Dropout(0.5))\n",
    "model.add(layers.Dense(256, activation='relu'))\n",
    "model.add(Dropout(0.5))\n",
    "model.add(layers.Dense(2, activation='softmax'))\n",
    "model.compile(optimizer='adam',loss='sparse_categorical_crossentropy',metrics=['accuracy'])"
   ]
  },
  {
   "cell_type": "code",
   "execution_count": 4,
   "metadata": {
    "scrolled": true
   },
   "outputs": [
    {
     "name": "stdout",
     "output_type": "stream",
     "text": [
      "Epoch 1/50\n",
      "1/1 [==============================] - 2s 2s/step - loss: 0.8640 - accuracy: 0.4717\n",
      "Epoch 2/50\n",
      "1/1 [==============================] - 0s 18ms/step - loss: 0.6959 - accuracy: 0.5943\n",
      "Epoch 3/50\n",
      "1/1 [==============================] - 0s 23ms/step - loss: 0.7092 - accuracy: 0.6038\n",
      "Epoch 4/50\n",
      "1/1 [==============================] - 0s 15ms/step - loss: 0.6573 - accuracy: 0.6887\n",
      "Epoch 5/50\n",
      "1/1 [==============================] - 0s 18ms/step - loss: 0.6740 - accuracy: 0.6792\n",
      "Epoch 6/50\n",
      "1/1 [==============================] - 0s 23ms/step - loss: 0.6377 - accuracy: 0.6792\n",
      "Epoch 7/50\n",
      "1/1 [==============================] - 0s 20ms/step - loss: 0.5752 - accuracy: 0.7453\n",
      "Epoch 8/50\n",
      "1/1 [==============================] - 0s 23ms/step - loss: 0.5856 - accuracy: 0.7075\n",
      "Epoch 9/50\n",
      "1/1 [==============================] - 0s 10ms/step - loss: 0.5205 - accuracy: 0.7642\n",
      "Epoch 10/50\n",
      "1/1 [==============================] - 0s 12ms/step - loss: 0.4215 - accuracy: 0.8208\n",
      "Epoch 11/50\n",
      "1/1 [==============================] - 0s 11ms/step - loss: 0.4413 - accuracy: 0.8302\n",
      "Epoch 12/50\n",
      "1/1 [==============================] - ETA: 0s - loss: 0.4684 - accuracy: 0.81 - 0s 11ms/step - loss: 0.4684 - accuracy: 0.8113\n",
      "Epoch 13/50\n",
      "1/1 [==============================] - 0s 9ms/step - loss: 0.3863 - accuracy: 0.8396\n",
      "Epoch 14/50\n",
      "1/1 [==============================] - 0s 13ms/step - loss: 0.4042 - accuracy: 0.8302\n",
      "Epoch 15/50\n",
      "1/1 [==============================] - 0s 9ms/step - loss: 0.3812 - accuracy: 0.8585\n",
      "Epoch 16/50\n",
      "1/1 [==============================] - 0s 13ms/step - loss: 0.3451 - accuracy: 0.8868\n",
      "Epoch 17/50\n",
      "1/1 [==============================] - 0s 10ms/step - loss: 0.3607 - accuracy: 0.8302\n",
      "Epoch 18/50\n",
      "1/1 [==============================] - 0s 16ms/step - loss: 0.3487 - accuracy: 0.8396\n",
      "Epoch 19/50\n",
      "1/1 [==============================] - 0s 13ms/step - loss: 0.3301 - accuracy: 0.8302\n",
      "Epoch 20/50\n",
      "1/1 [==============================] - 0s 10ms/step - loss: 0.2927 - accuracy: 0.9057\n",
      "Epoch 21/50\n",
      "1/1 [==============================] - ETA: 0s - loss: 0.2884 - accuracy: 0.87 - 0s 16ms/step - loss: 0.2884 - accuracy: 0.8774\n",
      "Epoch 22/50\n",
      "1/1 [==============================] - 0s 10ms/step - loss: 0.2715 - accuracy: 0.8962\n",
      "Epoch 23/50\n",
      "1/1 [==============================] - 0s 10ms/step - loss: 0.3172 - accuracy: 0.8774\n",
      "Epoch 24/50\n",
      "1/1 [==============================] - 0s 15ms/step - loss: 0.3763 - accuracy: 0.8491\n",
      "Epoch 25/50\n",
      "1/1 [==============================] - 0s 11ms/step - loss: 0.2277 - accuracy: 0.9151\n",
      "Epoch 26/50\n",
      "1/1 [==============================] - 0s 9ms/step - loss: 0.2940 - accuracy: 0.9057\n",
      "Epoch 27/50\n",
      "1/1 [==============================] - 0s 13ms/step - loss: 0.2679 - accuracy: 0.9057\n",
      "Epoch 28/50\n",
      "1/1 [==============================] - 0s 11ms/step - loss: 0.1831 - accuracy: 0.9340\n",
      "Epoch 29/50\n",
      "1/1 [==============================] - 0s 14ms/step - loss: 0.2712 - accuracy: 0.9057\n",
      "Epoch 30/50\n",
      "1/1 [==============================] - 0s 13ms/step - loss: 0.1937 - accuracy: 0.9151\n",
      "Epoch 31/50\n",
      "1/1 [==============================] - 0s 10ms/step - loss: 0.2031 - accuracy: 0.9151\n",
      "Epoch 32/50\n",
      "1/1 [==============================] - 0s 13ms/step - loss: 0.1657 - accuracy: 0.9528\n",
      "Epoch 33/50\n",
      "1/1 [==============================] - 0s 10ms/step - loss: 0.1659 - accuracy: 0.9434\n",
      "Epoch 34/50\n",
      "1/1 [==============================] - 0s 11ms/step - loss: 0.1630 - accuracy: 0.9434\n",
      "Epoch 35/50\n",
      "1/1 [==============================] - 0s 11ms/step - loss: 0.1639 - accuracy: 0.9623\n",
      "Epoch 36/50\n",
      "1/1 [==============================] - 0s 10ms/step - loss: 0.1635 - accuracy: 0.9434\n",
      "Epoch 37/50\n",
      "1/1 [==============================] - 0s 10ms/step - loss: 0.1521 - accuracy: 0.9434\n",
      "Epoch 38/50\n",
      "1/1 [==============================] - 0s 12ms/step - loss: 0.1310 - accuracy: 0.9623\n",
      "Epoch 39/50\n",
      "1/1 [==============================] - 0s 7ms/step - loss: 0.1647 - accuracy: 0.9434\n",
      "Epoch 40/50\n",
      "1/1 [==============================] - 0s 14ms/step - loss: 0.1667 - accuracy: 0.9057\n",
      "Epoch 41/50\n",
      "1/1 [==============================] - 0s 10ms/step - loss: 0.0919 - accuracy: 0.9811\n",
      "Epoch 42/50\n",
      "1/1 [==============================] - 0s 11ms/step - loss: 0.1071 - accuracy: 0.9811\n",
      "Epoch 43/50\n",
      "1/1 [==============================] - 0s 10ms/step - loss: 0.1156 - accuracy: 0.9717\n",
      "Epoch 44/50\n",
      "1/1 [==============================] - 0s 11ms/step - loss: 0.0958 - accuracy: 0.9528\n",
      "Epoch 45/50\n",
      "1/1 [==============================] - 0s 9ms/step - loss: 0.1011 - accuracy: 0.9434\n",
      "Epoch 46/50\n",
      "1/1 [==============================] - 0s 8ms/step - loss: 0.1041 - accuracy: 0.9528\n",
      "Epoch 47/50\n",
      "1/1 [==============================] - 0s 14ms/step - loss: 0.1087 - accuracy: 0.9528\n",
      "Epoch 48/50\n",
      "1/1 [==============================] - 0s 10ms/step - loss: 0.0799 - accuracy: 0.9717\n",
      "Epoch 49/50\n",
      "1/1 [==============================] - 0s 13ms/step - loss: 0.0809 - accuracy: 0.9717\n",
      "Epoch 50/50\n",
      "1/1 [==============================] - 0s 8ms/step - loss: 0.0692 - accuracy: 0.9811\n"
     ]
    },
    {
     "data": {
      "text/plain": [
       "<tensorflow.python.keras.callbacks.History at 0x2367189dc70>"
      ]
     },
     "execution_count": 4,
     "metadata": {},
     "output_type": "execute_result"
    }
   ],
   "source": [
    "model.fit(X_train,y_train,shuffle=True,epochs=50,batch_size=128)"
   ]
  },
  {
   "cell_type": "code",
   "execution_count": 4,
   "metadata": {},
   "outputs": [],
   "source": [
    "from keras.models import load_model\n",
    "model = load_model('ff_nn_v_Ac88_Be.h5')\n",
    "model.load_weights('ff_nn_v_Ac88_Be_weights.h5')"
   ]
  },
  {
   "cell_type": "code",
   "execution_count": null,
   "metadata": {},
   "outputs": [],
   "source": [
    "import pyaudio\n",
    "import wave\n",
    "\n",
    "CHUNK = 1024\n",
    "FORMAT = pyaudio.paInt16\n",
    "CHANNELS = 2\n",
    "RATE = 44100\n",
    "RECORD_SECONDS = 5\n",
    "WAVE_OUTPUT_FILENAME = \"output.wav\"\n",
    "\n",
    "p = pyaudio.PyAudio()\n",
    "\n",
    "stream = p.open(format=FORMAT,\n",
    "                channels=CHANNELS,\n",
    "                rate=RATE,\n",
    "                input=True,\n",
    "                frames_per_buffer=CHUNK)\n",
    "\n",
    "print(\"* recording\")\n",
    "\n",
    "frames = []\n",
    "\n",
    "for i in range(0, int(RATE / CHUNK * RECORD_SECONDS)):\n",
    "    data = stream.read(CHUNK)\n",
    "    frames.append(data)\n",
    "\n",
    "print(\"* done recording\")\n",
    "\n",
    "stream.stop_stream()\n",
    "stream.close()\n",
    "p.terminate()\n",
    "\n",
    "wf = wave.open(WAVE_OUTPUT_FILENAME, 'wb')\n",
    "wf.setnchannels(CHANNELS)\n",
    "wf.setsampwidth(p.get_sample_size(FORMAT))\n",
    "wf.setframerate(RATE)\n",
    "wf.writeframes(b''.join(frames))\n",
    "wf.close()"
   ]
  },
  {
   "cell_type": "code",
   "execution_count": null,
   "metadata": {},
   "outputs": [],
   "source": [
    "header = 'filename'\n",
    "for i in range(1, 26):\n",
    "    header += f' mfcc{i}'\n",
    "header += ' label'\n",
    "header = header.split()"
   ]
  },
  {
   "cell_type": "code",
   "execution_count": null,
   "metadata": {},
   "outputs": [],
   "source": [
    "file = open('predict.csv', 'w', newline='')\n",
    "with file:\n",
    "    writer = csv.writer(file)\n",
    "    writer.writerow(header)\n",
    "y, sr = librosa.load('output.wav', mono=True, duration=5)\n",
    "mfcc = librosa.feature.mfcc(y=y, sr=sr,n_mfcc=25)\n",
    "to_append = f'output.wav '   \n",
    "for e in mfcc:\n",
    "    to_append += f' {np.mean(e)}'\n",
    "file = open('predict.csv', 'a', newline='')\n",
    "with file:\n",
    "    writer = csv.writer(file)\n",
    "    writer.writerow(to_append.split())\n",
    "live_data = pd.read_csv('predict.csv')\n",
    "live_data = live_data.drop(['filename'],axis=1)\n"
   ]
  },
  {
   "cell_type": "code",
   "execution_count": null,
   "metadata": {},
   "outputs": [],
   "source": [
    "op=list(to_append.split())\n",
    "print(op.pop(0))"
   ]
  },
  {
   "cell_type": "code",
   "execution_count": null,
   "metadata": {},
   "outputs": [],
   "source": [
    "\n",
    "print(op)\n",
    "Xnew = scaler.transform([op])\n",
    "print(Xnew)\n",
    "ynew = model.predict_classes(Xnew)\n",
    "print(\"Predicted=%s\" % (ynew))\n",
    "if ynew==0:\n",
    "    print('Cry')\n",
    "else:\n",
    "    print('No cry')"
   ]
  },
  {
   "cell_type": "code",
   "execution_count": null,
   "metadata": {},
   "outputs": [],
   "source": [
    "# Xnew = np.array([live_data.iloc[0][0:25]])\n",
    "# print(Xnew)\n",
    "# ynew = model.predict_classes(Xnew)\n",
    "# print(\"Predicted=%s\" % (ynew))\n",
    "# if ynew==0:\n",
    "#     print('Cry')\n",
    "# else:\n",
    "#     print('No cry')"
   ]
  },
  {
   "cell_type": "code",
   "execution_count": 8,
   "metadata": {},
   "outputs": [
    {
     "name": "stdout",
     "output_type": "stream",
     "text": [
      "* recording\n",
      "output0.wav\n",
      "Predicting\n",
      "output1.wav\n"
     ]
    },
    {
     "name": "stderr",
     "output_type": "stream",
     "text": [
      "D:\\Softwares\\Anaconda\\lib\\site-packages\\tensorflow\\python\\keras\\engine\\sequential.py:450: UserWarning: `model.predict_classes()` is deprecated and will be removed after 2021-01-01. Please use instead:* `np.argmax(model.predict(x), axis=-1)`,   if your model does multi-class classification   (e.g. if it uses a `softmax` last-layer activation).* `(model.predict(x) > 0.5).astype(\"int32\")`,   if your model does binary classification   (e.g. if it uses a `sigmoid` last-layer activation).\n",
      "  warnings.warn('`model.predict_classes()` is deprecated and '\n"
     ]
    },
    {
     "name": "stdout",
     "output_type": "stream",
     "text": [
      "Predicted=[1]\n",
      "No cry\n",
      "Predicting\n",
      "output2.wav\n"
     ]
    },
    {
     "name": "stderr",
     "output_type": "stream",
     "text": [
      "D:\\Softwares\\Anaconda\\lib\\site-packages\\tensorflow\\python\\keras\\engine\\sequential.py:450: UserWarning: `model.predict_classes()` is deprecated and will be removed after 2021-01-01. Please use instead:* `np.argmax(model.predict(x), axis=-1)`,   if your model does multi-class classification   (e.g. if it uses a `softmax` last-layer activation).* `(model.predict(x) > 0.5).astype(\"int32\")`,   if your model does binary classification   (e.g. if it uses a `sigmoid` last-layer activation).\n",
      "  warnings.warn('`model.predict_classes()` is deprecated and '\n"
     ]
    },
    {
     "name": "stdout",
     "output_type": "stream",
     "text": [
      "Predicted=[0]\n",
      "Cry\n",
      "Predicting\n",
      "output3.wav\n"
     ]
    },
    {
     "name": "stderr",
     "output_type": "stream",
     "text": [
      "D:\\Softwares\\Anaconda\\lib\\site-packages\\tensorflow\\python\\keras\\engine\\sequential.py:450: UserWarning: `model.predict_classes()` is deprecated and will be removed after 2021-01-01. Please use instead:* `np.argmax(model.predict(x), axis=-1)`,   if your model does multi-class classification   (e.g. if it uses a `softmax` last-layer activation).* `(model.predict(x) > 0.5).astype(\"int32\")`,   if your model does binary classification   (e.g. if it uses a `sigmoid` last-layer activation).\n",
      "  warnings.warn('`model.predict_classes()` is deprecated and '\n"
     ]
    },
    {
     "name": "stdout",
     "output_type": "stream",
     "text": [
      "Predicted=[0]\n",
      "Cry\n",
      "Predicting\n",
      "Done!\n"
     ]
    },
    {
     "data": {
      "text/plain": [
       "<Figure size 432x288 with 0 Axes>"
      ]
     },
     "metadata": {},
     "output_type": "display_data"
    },
    {
     "data": {
      "text/plain": [
       "<Figure size 576x576 with 0 Axes>"
      ]
     },
     "metadata": {},
     "output_type": "display_data"
    },
    {
     "data": {
      "text/plain": [
       "<Figure size 576x576 with 0 Axes>"
      ]
     },
     "metadata": {},
     "output_type": "display_data"
    },
    {
     "data": {
      "text/plain": [
       "<Figure size 576x576 with 0 Axes>"
      ]
     },
     "metadata": {},
     "output_type": "display_data"
    },
    {
     "data": {
      "text/plain": [
       "<Figure size 576x576 with 0 Axes>"
      ]
     },
     "metadata": {},
     "output_type": "display_data"
    },
    {
     "name": "stderr",
     "output_type": "stream",
     "text": [
      "D:\\Softwares\\Anaconda\\lib\\site-packages\\tensorflow\\python\\keras\\engine\\sequential.py:450: UserWarning: `model.predict_classes()` is deprecated and will be removed after 2021-01-01. Please use instead:* `np.argmax(model.predict(x), axis=-1)`,   if your model does multi-class classification   (e.g. if it uses a `softmax` last-layer activation).* `(model.predict(x) > 0.5).astype(\"int32\")`,   if your model does binary classification   (e.g. if it uses a `sigmoid` last-layer activation).\n",
      "  warnings.warn('`model.predict_classes()` is deprecated and '\n"
     ]
    },
    {
     "name": "stdout",
     "output_type": "stream",
     "text": [
      "Predicted=[1]\n",
      "No cry\n"
     ]
    }
   ],
   "source": [
    "import pyaudio\n",
    "import wave\n",
    "import pathlib\n",
    "import threading\n",
    "import csv\n",
    "import time\n",
    "\n",
    "# t1 = threading.Thread(target=print_square, args=(10,))\n",
    "# t2 = threading.Thread(target=print_cube, args=(10,))\n",
    "\n",
    "CHUNK = 1024\n",
    "FORMAT = pyaudio.paInt16\n",
    "CHANNELS = 2\n",
    "RATE = 44100\n",
    "RECORD_SECONDS = 5\n",
    "WAVE_OUTPUT_FILENAME = \"output.wav\"\n",
    "\n",
    "stop = 0\n",
    "\n",
    "\n",
    "p = pyaudio.PyAudio()\n",
    "\n",
    "stream = p.open(format=FORMAT,\n",
    "                channels=CHANNELS,\n",
    "                rate=RATE,\n",
    "                input=True,\n",
    "                frames_per_buffer=CHUNK)\n",
    "\n",
    "print(\"* recording\")\n",
    "\n",
    "\n",
    "def predict(name):\n",
    "    #Doing prediction\n",
    "    cmap = plt.get_cmap('inferno')\n",
    "    plt.figure(figsize=(8,8))\n",
    "    pathlib.Path(f'live_data/').mkdir(parents=True, exist_ok=True)\n",
    "    # for filename in os.listdir(f'b_cry/{g}'):\n",
    "    songname = name+'.wav'\n",
    "    y, sr = librosa.load(songname, mono=True, duration=7)\n",
    "    plt.specgram(y, NFFT=2048, Fs=2, Fc=0, noverlap=128, cmap=cmap, sides='default', mode='default', scale='dB');\n",
    "    plt.axis('off');\n",
    "    plt.savefig(f'live_data/{name}.png')\n",
    "    plt.clf()\n",
    "\n",
    "    header = 'filename chroma_stft rmse spectral_centroid spectral_bandwidth rolloff zero_crossing_rate'\n",
    "    for i in range(1, 41):\n",
    "        header += f' mfcc{i}'\n",
    "    header += ' label'\n",
    "    header = header.split()\n",
    "\n",
    "    file = open(f'{name}.csv', 'w', newline='')\n",
    "    with file:\n",
    "        writer = csv.writer(file)\n",
    "        writer.writerow(header)\n",
    "    # genres = 'discomfort belly_pain burping hungry'.split()\n",
    "    # for g in genres:\n",
    "    #     for filename in os.listdir(f'b_cry/{g}'):\n",
    "    # songname = f'b_cry/{g}/{filename}'\n",
    "#     songname = f'output.wav'\n",
    "    y, sr = librosa.load(songname, mono=True, duration=5)\n",
    "    \n",
    "    mfcc = librosa.feature.mfcc(y=y, sr=sr,n_mfcc=40)\n",
    "    to_append = f'{name}.wav '   \n",
    "    for e in mfcc:\n",
    "        to_append += f' {np.mean(e)}'\n",
    "    # to_append += f' {model.predict(live_data.iloc[0])}'\n",
    "    #to_append += f' live_data_genre'\n",
    "    file = open(f'{name}.csv', 'a', newline='')\n",
    "    with file:\n",
    "        writer = csv.writer(file)\n",
    "        writer.writerow(to_append.split())\n",
    "    live_data = pd.read_csv(f'{name}.csv')\n",
    "    live_data = live_data.drop(['filename'],axis=1)\n",
    "\n",
    "    #print(live_data.iloc[0][0:26])\n",
    "    op=list(to_append.split())\n",
    "    op.pop(0)\n",
    "#     print(Xnew)\n",
    "    Xnew = scaler.transform([op])\n",
    "    ynew = model.predict_classes(Xnew)\n",
    "\n",
    "    print(\"Predicted=%s\" % (ynew))\n",
    "    if ynew==0:\n",
    "        print('Cry')\n",
    "    else:\n",
    "        print('No cry')\n",
    "\n",
    "\n",
    "# def record_audio():\n",
    "for j in range(0,4):\n",
    "    frames = []\n",
    "    songname = \"output\"+str(j)\n",
    "    WAVE_OUTPUT_FILENAME = \"output\"+str(j)+\".wav\"\n",
    "    print(WAVE_OUTPUT_FILENAME)\n",
    "    for i in range(0, int(RATE / CHUNK * RECORD_SECONDS)):\n",
    "        data = stream.read(CHUNK)\n",
    "        frames.append(data)\n",
    "\n",
    "    wf = wave.open(WAVE_OUTPUT_FILENAME, 'wb')\n",
    "    wf.setnchannels(CHANNELS)\n",
    "    wf.setsampwidth(p.get_sample_size(FORMAT))\n",
    "    wf.setframerate(RATE)\n",
    "    wf.writeframes(b''.join(frames))\n",
    "    \n",
    "    print(\"Predicting\")\n",
    "#     for i in range(0,5):\n",
    "#         print(str(i*100))\n",
    "#         time.sleep(0.5)\n",
    "    t2 = threading.Thread(target=predict, args=(songname,))\n",
    "    t2.start()\n",
    "    \n",
    "# if __name__ == \"__main__\":\n",
    "    # creating thread\n",
    "# t1 = threading.Thread(target=record_audio, args=())\n",
    "# t2 = threading.Thread(target=predict, args=())\n",
    "\n",
    "# while(stop==0):\n",
    "# t1.start()\n",
    "# t2.start()\n",
    "# t1.join()\n",
    "# t2.join()\n",
    "# both threads completely executed\n",
    "print(\"Done!\")"
   ]
  },
  {
   "cell_type": "code",
   "execution_count": 6,
   "metadata": {},
   "outputs": [
    {
     "name": "stdout",
     "output_type": "stream",
     "text": [
      "Predicted=[1]\n",
      "No cry\n",
      "Training Accuracy: 30.19%\n",
      "Testing Accuracy: 11.11%\n"
     ]
    },
    {
     "name": "stderr",
     "output_type": "stream",
     "text": [
      "D:\\Softwares\\Anaconda\\lib\\site-packages\\tensorflow\\python\\keras\\engine\\sequential.py:450: UserWarning: `model.predict_classes()` is deprecated and will be removed after 2021-01-01. Please use instead:* `np.argmax(model.predict(x), axis=-1)`,   if your model does multi-class classification   (e.g. if it uses a `softmax` last-layer activation).* `(model.predict(x) > 0.5).astype(\"int32\")`,   if your model does binary classification   (e.g. if it uses a `sigmoid` last-layer activation).\n",
      "  warnings.warn('`model.predict_classes()` is deprecated and '\n"
     ]
    },
    {
     "data": {
      "text/plain": [
       "<Figure size 432x288 with 0 Axes>"
      ]
     },
     "metadata": {},
     "output_type": "display_data"
    }
   ],
   "source": [
    "score = model.evaluate(X_train, y_train, verbose=0)\n",
    "print(\"Training Accuracy: {0:.2%}\".format(score[1]))\n",
    "score = model.evaluate(X_test, y_test, verbose=0)\n",
    "print(\"Testing Accuracy: {0:.2%}\".format(score[1]))"
   ]
  },
  {
   "cell_type": "code",
   "execution_count": null,
   "metadata": {},
   "outputs": [],
   "source": [
    "# from keras.models import load_model\n",
    "# model.save(\"ff_nn_v_Ac88.h5\")"
   ]
  },
  {
   "cell_type": "code",
   "execution_count": null,
   "metadata": {},
   "outputs": [],
   "source": [
    "# model.save_weights('ff_nn_v_Ac88_weights.h5')"
   ]
  },
  {
   "cell_type": "code",
   "execution_count": null,
   "metadata": {},
   "outputs": [],
   "source": [
    "librosa.__version__"
   ]
  },
  {
   "cell_type": "code",
   "execution_count": null,
   "metadata": {},
   "outputs": [],
   "source": []
  }
 ],
 "metadata": {
  "kernelspec": {
   "display_name": "Python 3",
   "language": "python",
   "name": "python3"
  },
  "language_info": {
   "codemirror_mode": {
    "name": "ipython",
    "version": 3
   },
   "file_extension": ".py",
   "mimetype": "text/x-python",
   "name": "python",
   "nbconvert_exporter": "python",
   "pygments_lexer": "ipython3",
   "version": "3.8.5"
  }
 },
 "nbformat": 4,
 "nbformat_minor": 2
}
