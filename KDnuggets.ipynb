{
 "cells": [
  {
   "cell_type": "code",
   "execution_count": 31,
   "metadata": {},
   "outputs": [],
   "source": [
    "import librosa\n",
    "import pandas as pd\n",
    "import numpy as np\n",
    "import matplotlib.pyplot as plt\n",
    "%matplotlib inline\n",
    "import os\n",
    "from PIL import Image\n",
    "import pathlib\n",
    "import csv\n",
    "from sklearn.model_selection import train_test_split\n",
    "from sklearn.preprocessing import LabelEncoder, StandardScaler\n",
    "import keras\n",
    "from keras import layers\n",
    "from keras import layers\n",
    "import keras\n",
    "from keras.models import Sequential\n",
    "import warnings\n",
    "warnings.filterwarnings('ignore')"
   ]
  },
  {
   "cell_type": "code",
   "execution_count": 4,
   "metadata": {},
   "outputs": [
    {
     "data": {
      "text/plain": [
       "<Figure size 576x576 with 0 Axes>"
      ]
     },
     "metadata": {},
     "output_type": "display_data"
    }
   ],
   "source": [
    "cmap = plt.get_cmap('inferno')\n",
    "plt.figure(figsize=(8,8))\n",
    "genres = 'discomfort belly_pain burping hungry'.split()\n",
    "for g in genres:\n",
    "    pathlib.Path(f'img_data/{g}').mkdir(parents=True, exist_ok=True)\n",
    "    for filename in os.listdir(f'C:/Users/User/Desktop/Git Repo/Baby_cry_classification/b_cry/{g}'):\n",
    "        songname = f'C:/Users/User/Desktop/Git Repo/Baby_cry_classification/b_cry/{g}/{filename}'\n",
    "        y, sr = librosa.load(songname, mono=True, duration=5)\n",
    "        plt.specgram(y, NFFT=2048, Fs=2, Fc=0, noverlap=128, cmap=cmap, sides='default', mode='default', scale='dB');\n",
    "        plt.axis('off');\n",
    "        plt.savefig(f'img_data/{g}/{filename[:-3].replace(\".\", \"\")}.png')\n",
    "        plt.clf()"
   ]
  },
  {
   "cell_type": "code",
   "execution_count": 5,
   "metadata": {},
   "outputs": [],
   "source": [
    "header = 'filename chroma_stft rmse spectral_centroid spectral_bandwidth rolloff zero_crossing_rate'\n",
    "for i in range(1, 21):\n",
    "    header += f' mfcc{i}'\n",
    "header += ' label'\n",
    "header = header.split()"
   ]
  },
  {
   "cell_type": "code",
   "execution_count": 7,
   "metadata": {},
   "outputs": [],
   "source": [
    "file = open('dataset.csv', 'w', newline='')\n",
    "with file:\n",
    "    writer = csv.writer(file)\n",
    "    writer.writerow(header)\n",
    "genres = 'discomfort belly_pain burping hungry'.split()\n",
    "for g in genres:\n",
    "    for filename in os.listdir(f'C:/Users/User/Desktop/Git Repo/Baby_cry_classification/b_cry/{g}'):\n",
    "        songname = f'C:/Users/User/Desktop/Git Repo/Baby_cry_classification/b_cry/{g}/{filename}'\n",
    "        y, sr = librosa.load(songname, mono=True, duration=30)\n",
    "        rmse = librosa.feature.rms(y=y)\n",
    "        chroma_stft = librosa.feature.chroma_stft(y=y, sr=sr)\n",
    "        spec_cent = librosa.feature.spectral_centroid(y=y, sr=sr)\n",
    "        spec_bw = librosa.feature.spectral_bandwidth(y=y, sr=sr)\n",
    "        rolloff = librosa.feature.spectral_rolloff(y=y, sr=sr)\n",
    "        zcr = librosa.feature.zero_crossing_rate(y)\n",
    "        mfcc = librosa.feature.mfcc(y=y, sr=sr)\n",
    "        to_append = f'{filename} {np.mean(chroma_stft)} {np.mean(rmse)} {np.mean(spec_cent)} {np.mean(spec_bw)} {np.mean(rolloff)} {np.mean(zcr)}'    \n",
    "        for e in mfcc:\n",
    "            to_append += f' {np.mean(e)}'\n",
    "        to_append += f' {g}'\n",
    "        file = open('dataset.csv', 'a', newline='')\n",
    "        with file:\n",
    "            writer = csv.writer(file)\n",
    "            writer.writerow(to_append.split())"
   ]
  },
  {
   "cell_type": "code",
   "execution_count": 59,
   "metadata": {},
   "outputs": [],
   "source": [
    "data = pd.read_csv('dataset.csv')\n",
    "data.head()# Dropping unneccesary columns\n",
    "data = data.drop(['filename'],axis=1)#Encoding the Labels\n",
    "genre_list = data.iloc[:, -1]\n",
    "encoder = LabelEncoder()\n",
    "y = encoder.fit_transform(genre_list)#Scaling the Feature columns\n",
    "scaler = StandardScaler()\n",
    "X = scaler.fit_transform(np.array(data.iloc[:, :-1], dtype = float))#Dividing data into training and Testing set\n",
    "X_train, X_test, y_train, y_test = train_test_split(X, y, test_size=0.2)"
   ]
  },
  {
   "cell_type": "code",
   "execution_count": 135,
   "metadata": {},
   "outputs": [
    {
     "ename": "AttributeError",
     "evalue": "'bytes' object has no attribute 'shape'",
     "output_type": "error",
     "traceback": [
      "\u001b[1;31m---------------------------------------------------------------------------\u001b[0m",
      "\u001b[1;31mAttributeError\u001b[0m                            Traceback (most recent call last)",
      "\u001b[1;32m<ipython-input-135-de5dc9aeeea1>\u001b[0m in \u001b[0;36m<module>\u001b[1;34m\u001b[0m\n\u001b[0;32m      1\u001b[0m \u001b[1;32mimport\u001b[0m \u001b[0mmissingno\u001b[0m\u001b[1;33m\u001b[0m\u001b[1;33m\u001b[0m\u001b[0m\n\u001b[1;32m----> 2\u001b[1;33m \u001b[0mmissingno\u001b[0m\u001b[1;33m.\u001b[0m\u001b[0mmatrix\u001b[0m\u001b[1;33m(\u001b[0m\u001b[0mdata\u001b[0m\u001b[1;33m)\u001b[0m\u001b[1;33m\u001b[0m\u001b[1;33m\u001b[0m\u001b[0m\n\u001b[0m",
      "\u001b[1;32m~\\Anaconda3\\lib\\site-packages\\missingno\\missingno.py\u001b[0m in \u001b[0;36mmatrix\u001b[1;34m(df, filter, n, p, sort, figsize, width_ratios, color, fontsize, labels, sparkline, inline, freq, ax)\u001b[0m\n\u001b[0;32m     36\u001b[0m     \u001b[0mdf\u001b[0m \u001b[1;33m=\u001b[0m \u001b[0mnullity_sort\u001b[0m\u001b[1;33m(\u001b[0m\u001b[0mdf\u001b[0m\u001b[1;33m,\u001b[0m \u001b[0msort\u001b[0m\u001b[1;33m=\u001b[0m\u001b[0msort\u001b[0m\u001b[1;33m,\u001b[0m \u001b[0maxis\u001b[0m\u001b[1;33m=\u001b[0m\u001b[1;34m'columns'\u001b[0m\u001b[1;33m)\u001b[0m\u001b[1;33m\u001b[0m\u001b[1;33m\u001b[0m\u001b[0m\n\u001b[0;32m     37\u001b[0m \u001b[1;33m\u001b[0m\u001b[0m\n\u001b[1;32m---> 38\u001b[1;33m     \u001b[0mheight\u001b[0m \u001b[1;33m=\u001b[0m \u001b[0mdf\u001b[0m\u001b[1;33m.\u001b[0m\u001b[0mshape\u001b[0m\u001b[1;33m[\u001b[0m\u001b[1;36m0\u001b[0m\u001b[1;33m]\u001b[0m\u001b[1;33m\u001b[0m\u001b[1;33m\u001b[0m\u001b[0m\n\u001b[0m\u001b[0;32m     39\u001b[0m     \u001b[0mwidth\u001b[0m \u001b[1;33m=\u001b[0m \u001b[0mdf\u001b[0m\u001b[1;33m.\u001b[0m\u001b[0mshape\u001b[0m\u001b[1;33m[\u001b[0m\u001b[1;36m1\u001b[0m\u001b[1;33m]\u001b[0m\u001b[1;33m\u001b[0m\u001b[1;33m\u001b[0m\u001b[0m\n\u001b[0;32m     40\u001b[0m \u001b[1;33m\u001b[0m\u001b[0m\n",
      "\u001b[1;31mAttributeError\u001b[0m: 'bytes' object has no attribute 'shape'"
     ]
    }
   ],
   "source": [
    "import missingno\n",
    "missingno.matrix(data)"
   ]
  },
  {
   "cell_type": "code",
   "execution_count": 60,
   "metadata": {},
   "outputs": [],
   "source": [
    "model = Sequential()\n",
    "model.add(layers.Dense(256, activation='relu', input_shape=(X_train.shape[1],)))\n",
    "model.add(layers.Dense(128, activation='relu'))\n",
    "model.add(layers.Dense(64, activation='relu'))\n",
    "model.add(layers.Dense(10, activation='softmax'))\n",
    "model.compile(optimizer='adam',loss='sparse_categorical_crossentropy',metrics=['accuracy'])"
   ]
  },
  {
   "cell_type": "code",
   "execution_count": 92,
   "metadata": {
    "scrolled": false
   },
   "outputs": [
    {
     "name": "stdout",
     "output_type": "stream",
     "text": [
      "Epoch 1/50\n",
      "3/3 [==============================] - ETA: 0s - loss: 0.0026 - accuracy: 1.00 - 0s 8ms/step - loss: 0.0027 - accuracy: 1.0000\n",
      "Epoch 2/50\n",
      "3/3 [==============================] - ETA: 0s - loss: 0.0026 - accuracy: 1.00 - 0s 6ms/step - loss: 0.0026 - accuracy: 1.0000\n",
      "Epoch 3/50\n",
      "3/3 [==============================] - ETA: 0s - loss: 0.0026 - accuracy: 1.00 - 0s 9ms/step - loss: 0.0025 - accuracy: 1.0000\n",
      "Epoch 4/50\n",
      "3/3 [==============================] - ETA: 0s - loss: 0.0026 - accuracy: 1.00 - 0s 12ms/step - loss: 0.0024 - accuracy: 1.0000\n",
      "Epoch 5/50\n",
      "3/3 [==============================] - ETA: 0s - loss: 0.0024 - accuracy: 1.00 - 0s 7ms/step - loss: 0.0024 - accuracy: 1.0000\n",
      "Epoch 6/50\n",
      "3/3 [==============================] - ETA: 0s - loss: 0.0026 - accuracy: 1.00 - 0s 7ms/step - loss: 0.0023 - accuracy: 1.0000\n",
      "Epoch 7/50\n",
      "3/3 [==============================] - ETA: 0s - loss: 0.0017 - accuracy: 1.00 - 0s 7ms/step - loss: 0.0022 - accuracy: 1.0000\n",
      "Epoch 8/50\n",
      "3/3 [==============================] - ETA: 0s - loss: 0.0028 - accuracy: 1.00 - 0s 15ms/step - loss: 0.0022 - accuracy: 1.0000\n",
      "Epoch 9/50\n",
      "3/3 [==============================] - ETA: 0s - loss: 0.0018 - accuracy: 1.00 - 0s 6ms/step - loss: 0.0021 - accuracy: 1.0000\n",
      "Epoch 10/50\n",
      "3/3 [==============================] - ETA: 0s - loss: 0.0015 - accuracy: 1.00 - 0s 10ms/step - loss: 0.0020 - accuracy: 1.0000\n",
      "Epoch 11/50\n",
      "3/3 [==============================] - ETA: 0s - loss: 0.0024 - accuracy: 1.00 - 0s 6ms/step - loss: 0.0020 - accuracy: 1.0000\n",
      "Epoch 12/50\n",
      "3/3 [==============================] - ETA: 0s - loss: 0.0019 - accuracy: 1.00 - 0s 11ms/step - loss: 0.0019 - accuracy: 1.0000\n",
      "Epoch 13/50\n",
      "3/3 [==============================] - ETA: 0s - loss: 0.0020 - accuracy: 1.00 - 0s 8ms/step - loss: 0.0019 - accuracy: 1.0000\n",
      "Epoch 14/50\n",
      "3/3 [==============================] - ETA: 0s - loss: 0.0024 - accuracy: 1.00 - 0s 12ms/step - loss: 0.0018 - accuracy: 1.0000\n",
      "Epoch 15/50\n",
      "3/3 [==============================] - ETA: 0s - loss: 0.0013 - accuracy: 1.00 - 0s 6ms/step - loss: 0.0018 - accuracy: 1.0000\n",
      "Epoch 16/50\n",
      "3/3 [==============================] - ETA: 0s - loss: 0.0020 - accuracy: 1.00 - 0s 9ms/step - loss: 0.0017 - accuracy: 1.0000\n",
      "Epoch 17/50\n",
      "3/3 [==============================] - ETA: 0s - loss: 0.0018 - accuracy: 1.00 - 0s 6ms/step - loss: 0.0017 - accuracy: 1.0000\n",
      "Epoch 18/50\n",
      "3/3 [==============================] - ETA: 0s - loss: 0.0019 - accuracy: 1.00 - 0s 6ms/step - loss: 0.0016 - accuracy: 1.0000\n",
      "Epoch 19/50\n",
      "3/3 [==============================] - ETA: 0s - loss: 0.0014 - accuracy: 1.00 - 0s 6ms/step - loss: 0.0016 - accuracy: 1.0000\n",
      "Epoch 20/50\n",
      "3/3 [==============================] - ETA: 0s - loss: 0.0016 - accuracy: 1.00 - 0s 6ms/step - loss: 0.0016 - accuracy: 1.0000\n",
      "Epoch 21/50\n",
      "3/3 [==============================] - ETA: 0s - loss: 0.0010 - accuracy: 1.00 - 0s 7ms/step - loss: 0.0015 - accuracy: 1.0000\n",
      "Epoch 22/50\n",
      "3/3 [==============================] - ETA: 0s - loss: 0.0015 - accuracy: 1.00 - 0s 6ms/step - loss: 0.0015 - accuracy: 1.0000\n",
      "Epoch 23/50\n",
      "3/3 [==============================] - ETA: 0s - loss: 0.0018 - accuracy: 1.00 - 0s 6ms/step - loss: 0.0015 - accuracy: 1.0000\n",
      "Epoch 24/50\n",
      "3/3 [==============================] - ETA: 0s - loss: 0.0013 - accuracy: 1.00 - 0s 7ms/step - loss: 0.0014 - accuracy: 1.0000\n",
      "Epoch 25/50\n",
      "3/3 [==============================] - ETA: 0s - loss: 0.0013 - accuracy: 1.00 - 0s 6ms/step - loss: 0.0014 - accuracy: 1.0000\n",
      "Epoch 26/50\n",
      "3/3 [==============================] - ETA: 0s - loss: 0.0013 - accuracy: 1.00 - 0s 6ms/step - loss: 0.0014 - accuracy: 1.0000\n",
      "Epoch 27/50\n",
      "3/3 [==============================] - ETA: 0s - loss: 0.0014 - accuracy: 1.00 - 0s 6ms/step - loss: 0.0013 - accuracy: 1.0000\n",
      "Epoch 28/50\n",
      "3/3 [==============================] - ETA: 0s - loss: 0.0015 - accuracy: 1.00 - 0s 6ms/step - loss: 0.0013 - accuracy: 1.0000\n",
      "Epoch 29/50\n",
      "3/3 [==============================] - ETA: 0s - loss: 0.0014 - accuracy: 1.00 - 0s 7ms/step - loss: 0.0013 - accuracy: 1.0000\n",
      "Epoch 30/50\n",
      "3/3 [==============================] - ETA: 0s - loss: 0.0012 - accuracy: 1.00 - 0s 6ms/step - loss: 0.0012 - accuracy: 1.0000\n",
      "Epoch 31/50\n",
      "3/3 [==============================] - ETA: 0s - loss: 0.0011 - accuracy: 1.00 - 0s 6ms/step - loss: 0.0012 - accuracy: 1.0000\n",
      "Epoch 32/50\n",
      "3/3 [==============================] - ETA: 0s - loss: 9.0470e-04 - accuracy: 1.00 - 0s 6ms/step - loss: 0.0012 - accuracy: 1.0000\n",
      "Epoch 33/50\n",
      "3/3 [==============================] - ETA: 0s - loss: 0.0013 - accuracy: 1.00 - 0s 5ms/step - loss: 0.0012 - accuracy: 1.0000\n",
      "Epoch 34/50\n",
      "3/3 [==============================] - ETA: 0s - loss: 8.9078e-04 - accuracy: 1.00 - 0s 7ms/step - loss: 0.0011 - accuracy: 1.0000\n",
      "Epoch 35/50\n",
      "3/3 [==============================] - ETA: 0s - loss: 0.0011 - accuracy: 1.00 - 0s 6ms/step - loss: 0.0011 - accuracy: 1.0000\n",
      "Epoch 36/50\n",
      "3/3 [==============================] - ETA: 0s - loss: 9.8134e-04 - accuracy: 1.00 - 0s 9ms/step - loss: 0.0011 - accuracy: 1.0000\n",
      "Epoch 37/50\n",
      "3/3 [==============================] - ETA: 0s - loss: 0.0012 - accuracy: 1.00 - 0s 6ms/step - loss: 0.0011 - accuracy: 1.0000\n",
      "Epoch 38/50\n",
      "3/3 [==============================] - ETA: 0s - loss: 9.0440e-04 - accuracy: 1.00 - 0s 6ms/step - loss: 0.0010 - accuracy: 1.0000\n",
      "Epoch 39/50\n",
      "3/3 [==============================] - ETA: 0s - loss: 0.0010 - accuracy: 1.00 - 0s 5ms/step - loss: 0.0010 - accuracy: 1.0000\n",
      "Epoch 40/50\n",
      "3/3 [==============================] - ETA: 0s - loss: 9.9742e-04 - accuracy: 1.00 - 0s 5ms/step - loss: 0.0010 - accuracy: 1.0000\n",
      "Epoch 41/50\n",
      "3/3 [==============================] - ETA: 0s - loss: 8.1388e-04 - accuracy: 1.00 - 0s 5ms/step - loss: 9.8027e-04 - accuracy: 1.0000\n",
      "Epoch 42/50\n",
      "3/3 [==============================] - ETA: 0s - loss: 9.3850e-04 - accuracy: 1.00 - 0s 5ms/step - loss: 9.6163e-04 - accuracy: 1.0000\n",
      "Epoch 43/50\n",
      "3/3 [==============================] - ETA: 0s - loss: 7.9463e-04 - accuracy: 1.00 - 0s 5ms/step - loss: 9.4323e-04 - accuracy: 1.0000\n",
      "Epoch 44/50\n",
      "3/3 [==============================] - ETA: 0s - loss: 0.0011 - accuracy: 1.00 - 0s 5ms/step - loss: 9.2465e-04 - accuracy: 1.0000\n",
      "Epoch 45/50\n",
      "3/3 [==============================] - ETA: 0s - loss: 0.0011 - accuracy: 1.00 - 0s 5ms/step - loss: 9.0712e-04 - accuracy: 1.0000\n",
      "Epoch 46/50\n",
      "3/3 [==============================] - ETA: 0s - loss: 8.9208e-04 - accuracy: 1.00 - 0s 7ms/step - loss: 8.8835e-04 - accuracy: 1.0000\n",
      "Epoch 47/50\n",
      "3/3 [==============================] - ETA: 0s - loss: 7.2827e-04 - accuracy: 1.00 - 0s 5ms/step - loss: 8.7578e-04 - accuracy: 1.0000\n",
      "Epoch 48/50\n",
      "3/3 [==============================] - ETA: 0s - loss: 5.6422e-04 - accuracy: 1.00 - 0s 5ms/step - loss: 8.5505e-04 - accuracy: 1.0000\n",
      "Epoch 49/50\n",
      "3/3 [==============================] - ETA: 0s - loss: 9.0312e-04 - accuracy: 1.00 - 0s 8ms/step - loss: 8.4103e-04 - accuracy: 1.0000\n",
      "Epoch 50/50\n",
      "3/3 [==============================] - ETA: 0s - loss: 8.7357e-04 - accuracy: 1.00 - 0s 5ms/step - loss: 8.2534e-04 - accuracy: 1.0000\n"
     ]
    }
   ],
   "source": [
    "classifier = model.fit(X_train,y_train,epochs=50,batch_size=128)"
   ]
  },
  {
   "cell_type": "code",
   "execution_count": 99,
   "metadata": {},
   "outputs": [
    {
     "name": "stdout",
     "output_type": "stream",
     "text": [
      "* recording\n",
      "* done recording\n"
     ]
    }
   ],
   "source": [
    "import pyaudio\n",
    "import wave\n",
    "\n",
    "CHUNK = 1024\n",
    "FORMAT = pyaudio.paInt16\n",
    "CHANNELS = 2\n",
    "RATE = 44100\n",
    "RECORD_SECONDS = 5\n",
    "WAVE_OUTPUT_FILENAME = \"output.wav\"\n",
    "\n",
    "p = pyaudio.PyAudio()\n",
    "\n",
    "stream = p.open(format=FORMAT,\n",
    "                channels=CHANNELS,\n",
    "                rate=RATE,\n",
    "                input=True,\n",
    "                frames_per_buffer=CHUNK)\n",
    "\n",
    "print(\"* recording\")\n",
    "\n",
    "frames = []\n",
    "\n",
    "for i in range(0, int(RATE / CHUNK * RECORD_SECONDS)):\n",
    "    data = stream.read(CHUNK)\n",
    "    frames.append(data)\n",
    "\n",
    "print(\"* done recording\")\n",
    "\n",
    "stream.stop_stream()\n",
    "stream.close()\n",
    "p.terminate()\n",
    "\n",
    "wf = wave.open(WAVE_OUTPUT_FILENAME, 'wb')\n",
    "wf.setnchannels(CHANNELS)\n",
    "wf.setsampwidth(p.get_sample_size(FORMAT))\n",
    "wf.setframerate(RATE)\n",
    "wf.writeframes(b''.join(frames))\n",
    "wf.close()"
   ]
  },
  {
   "cell_type": "code",
   "execution_count": 101,
   "metadata": {},
   "outputs": [
    {
     "data": {
      "text/plain": [
       "<Figure size 576x576 with 0 Axes>"
      ]
     },
     "metadata": {},
     "output_type": "display_data"
    }
   ],
   "source": [
    "# cmap = plt.get_cmap('inferno')\n",
    "plt.figure(figsize=(8,8))\n",
    "pathlib.Path(f'live_data/').mkdir(parents=True, exist_ok=True)\n",
    "# for filename in os.listdir(f'b_cry/{g}'):\n",
    "songname = f'output.wav'\n",
    "y, sr = librosa.load(songname, mono=True, duration=5)\n",
    "plt.specgram(y, NFFT=2048, Fs=2, Fc=0, noverlap=128, cmap=cmap, sides='default', mode='default', scale='dB');\n",
    "plt.axis('off');\n",
    "plt.savefig(f'live_data/output.png')\n",
    "plt.clf()"
   ]
  },
  {
   "cell_type": "code",
   "execution_count": 102,
   "metadata": {},
   "outputs": [],
   "source": [
    "header = 'filename chroma_stft rmse spectral_centroid spectral_bandwidth rolloff zero_crossing_rate'\n",
    "for i in range(1, 21):\n",
    "    header += f' mfcc{i}'\n",
    "header += ' label'\n",
    "header = header.split()"
   ]
  },
  {
   "cell_type": "code",
   "execution_count": 124,
   "metadata": {},
   "outputs": [],
   "source": [
    "file = open('predict.csv', 'w', newline='')\n",
    "with file:\n",
    "    writer = csv.writer(file)\n",
    "    writer.writerow(header)\n",
    "# genres = 'discomfort belly_pain burping hungry'.split()\n",
    "# for g in genres:\n",
    "#     for filename in os.listdir(f'b_cry/{g}'):\n",
    "# songname = f'b_cry/{g}/{filename}'\n",
    "songname = f'output.wav'\n",
    "y, sr = librosa.load(songname, mono=True, duration=5)\n",
    "rmse = librosa.feature.rms(y=y)\n",
    "chroma_stft = librosa.feature.chroma_stft(y=y, sr=sr)\n",
    "spec_cent = librosa.feature.spectral_centroid(y=y, sr=sr)\n",
    "spec_bw = librosa.feature.spectral_bandwidth(y=y, sr=sr)\n",
    "rolloff = librosa.feature.spectral_rolloff(y=y, sr=sr)\n",
    "zcr = librosa.feature.zero_crossing_rate(y)\n",
    "mfcc = librosa.feature.mfcc(y=y, sr=sr)\n",
    "to_append = f'output.wav {np.mean(chroma_stft)} {np.mean(rmse)} {np.mean(spec_cent)} {np.mean(spec_bw)} {np.mean(rolloff)} {np.mean(zcr)}'   \n",
    "for e in mfcc:\n",
    "    to_append += f' {np.mean(e)}'\n",
    "# to_append += f' {model.predict(live_data.iloc[0])}'\n",
    "#to_append += f' live_data_genre'\n",
    "file = open('predict.csv', 'a', newline='')\n",
    "with file:\n",
    "    writer = csv.writer(file)\n",
    "    writer.writerow(to_append.split())\n",
    "live_data = pd.read_csv('predict.csv')\n",
    "live_data = live_data.drop(['filename'],axis=1)\n"
   ]
  },
  {
   "cell_type": "code",
   "execution_count": 139,
   "metadata": {},
   "outputs": [
    {
     "name": "stdout",
     "output_type": "stream",
     "text": [
      "Predicted=3\n"
     ]
    }
   ],
   "source": [
    "#print(live_data.iloc[0][0:26])\n",
    "Xnew = np.array([live_data.iloc[0][0:26]])\n",
    "ynew = model.predict_classes(Xnew)\n",
    "print(\"Predicted=%s\" % (ynew[0]))\n",
    "#live_data = data.drop(['filename'],axis=1)\n",
    "#print(model.predict(live_data.iloc[:, -1]))\n",
    "# print(type(live_data.iloc[0]))\n",
    "#print(model.predict_classes(live_data.iloc[0]))\n",
    "# print(live_data.iloc[0])"
   ]
  },
  {
   "cell_type": "code",
   "execution_count": null,
   "metadata": {},
   "outputs": [],
   "source": []
  },
  {
   "cell_type": "code",
   "execution_count": null,
   "metadata": {},
   "outputs": [],
   "source": []
  }
 ],
 "metadata": {
  "kernelspec": {
   "display_name": "Python 3",
   "language": "python",
   "name": "python3"
  },
  "language_info": {
   "codemirror_mode": {
    "name": "ipython",
    "version": 3
   },
   "file_extension": ".py",
   "mimetype": "text/x-python",
   "name": "python",
   "nbconvert_exporter": "python",
   "pygments_lexer": "ipython3",
   "version": "3.7.3"
  }
 },
 "nbformat": 4,
 "nbformat_minor": 2
}
