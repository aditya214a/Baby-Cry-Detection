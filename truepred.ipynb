{
 "cells": [
  {
   "cell_type": "code",
   "execution_count": 1,
   "metadata": {},
   "outputs": [
    {
     "name": "stderr",
     "output_type": "stream",
     "text": [
      "C:\\Users\\User\\Anaconda3\\lib\\site-packages\\sklearn\\linear_model\\least_angle.py:35: DeprecationWarning: `np.float` is a deprecated alias for the builtin `float`. To silence this warning, use `float` by itself. Doing this will not modify any behavior and is safe. If you specifically wanted the numpy scalar type, use `np.float64` here.\n",
      "Deprecated in NumPy 1.20; for more details and guidance: https://numpy.org/devdocs/release/1.20.0-notes.html#deprecations\n",
      "  eps=np.finfo(np.float).eps,\n",
      "C:\\Users\\User\\Anaconda3\\lib\\site-packages\\sklearn\\linear_model\\least_angle.py:597: DeprecationWarning: `np.float` is a deprecated alias for the builtin `float`. To silence this warning, use `float` by itself. Doing this will not modify any behavior and is safe. If you specifically wanted the numpy scalar type, use `np.float64` here.\n",
      "Deprecated in NumPy 1.20; for more details and guidance: https://numpy.org/devdocs/release/1.20.0-notes.html#deprecations\n",
      "  eps=np.finfo(np.float).eps, copy_X=True, fit_path=True,\n",
      "C:\\Users\\User\\Anaconda3\\lib\\site-packages\\sklearn\\linear_model\\least_angle.py:836: DeprecationWarning: `np.float` is a deprecated alias for the builtin `float`. To silence this warning, use `float` by itself. Doing this will not modify any behavior and is safe. If you specifically wanted the numpy scalar type, use `np.float64` here.\n",
      "Deprecated in NumPy 1.20; for more details and guidance: https://numpy.org/devdocs/release/1.20.0-notes.html#deprecations\n",
      "  eps=np.finfo(np.float).eps, copy_X=True, fit_path=True,\n",
      "C:\\Users\\User\\Anaconda3\\lib\\site-packages\\sklearn\\linear_model\\least_angle.py:862: DeprecationWarning: `np.float` is a deprecated alias for the builtin `float`. To silence this warning, use `float` by itself. Doing this will not modify any behavior and is safe. If you specifically wanted the numpy scalar type, use `np.float64` here.\n",
      "Deprecated in NumPy 1.20; for more details and guidance: https://numpy.org/devdocs/release/1.20.0-notes.html#deprecations\n",
      "  eps=np.finfo(np.float).eps, positive=False):\n",
      "C:\\Users\\User\\Anaconda3\\lib\\site-packages\\sklearn\\linear_model\\least_angle.py:1097: DeprecationWarning: `np.float` is a deprecated alias for the builtin `float`. To silence this warning, use `float` by itself. Doing this will not modify any behavior and is safe. If you specifically wanted the numpy scalar type, use `np.float64` here.\n",
      "Deprecated in NumPy 1.20; for more details and guidance: https://numpy.org/devdocs/release/1.20.0-notes.html#deprecations\n",
      "  max_n_alphas=1000, n_jobs=None, eps=np.finfo(np.float).eps,\n",
      "C:\\Users\\User\\Anaconda3\\lib\\site-packages\\sklearn\\linear_model\\least_angle.py:1344: DeprecationWarning: `np.float` is a deprecated alias for the builtin `float`. To silence this warning, use `float` by itself. Doing this will not modify any behavior and is safe. If you specifically wanted the numpy scalar type, use `np.float64` here.\n",
      "Deprecated in NumPy 1.20; for more details and guidance: https://numpy.org/devdocs/release/1.20.0-notes.html#deprecations\n",
      "  max_n_alphas=1000, n_jobs=None, eps=np.finfo(np.float).eps,\n",
      "C:\\Users\\User\\Anaconda3\\lib\\site-packages\\sklearn\\linear_model\\least_angle.py:1480: DeprecationWarning: `np.float` is a deprecated alias for the builtin `float`. To silence this warning, use `float` by itself. Doing this will not modify any behavior and is safe. If you specifically wanted the numpy scalar type, use `np.float64` here.\n",
      "Deprecated in NumPy 1.20; for more details and guidance: https://numpy.org/devdocs/release/1.20.0-notes.html#deprecations\n",
      "  eps=np.finfo(np.float).eps, copy_X=True, positive=False):\n",
      "C:\\Users\\User\\Anaconda3\\lib\\site-packages\\sklearn\\linear_model\\randomized_l1.py:152: DeprecationWarning: `np.float` is a deprecated alias for the builtin `float`. To silence this warning, use `float` by itself. Doing this will not modify any behavior and is safe. If you specifically wanted the numpy scalar type, use `np.float64` here.\n",
      "Deprecated in NumPy 1.20; for more details and guidance: https://numpy.org/devdocs/release/1.20.0-notes.html#deprecations\n",
      "  precompute=False, eps=np.finfo(np.float).eps,\n",
      "C:\\Users\\User\\Anaconda3\\lib\\site-packages\\sklearn\\linear_model\\randomized_l1.py:320: DeprecationWarning: `np.float` is a deprecated alias for the builtin `float`. To silence this warning, use `float` by itself. Doing this will not modify any behavior and is safe. If you specifically wanted the numpy scalar type, use `np.float64` here.\n",
      "Deprecated in NumPy 1.20; for more details and guidance: https://numpy.org/devdocs/release/1.20.0-notes.html#deprecations\n",
      "  eps=np.finfo(np.float).eps, random_state=None,\n",
      "C:\\Users\\User\\Anaconda3\\lib\\site-packages\\sklearn\\linear_model\\randomized_l1.py:580: DeprecationWarning: `np.float` is a deprecated alias for the builtin `float`. To silence this warning, use `float` by itself. Doing this will not modify any behavior and is safe. If you specifically wanted the numpy scalar type, use `np.float64` here.\n",
      "Deprecated in NumPy 1.20; for more details and guidance: https://numpy.org/devdocs/release/1.20.0-notes.html#deprecations\n",
      "  eps=4 * np.finfo(np.float).eps, n_jobs=None,\n",
      "C:\\Users\\User\\Anaconda3\\lib\\site-packages\\sklearn\\decomposition\\online_lda.py:31: DeprecationWarning: `np.float` is a deprecated alias for the builtin `float`. To silence this warning, use `float` by itself. Doing this will not modify any behavior and is safe. If you specifically wanted the numpy scalar type, use `np.float64` here.\n",
      "Deprecated in NumPy 1.20; for more details and guidance: https://numpy.org/devdocs/release/1.20.0-notes.html#deprecations\n",
      "  EPS = np.finfo(np.float).eps\n",
      "C:\\Users\\User\\Anaconda3\\lib\\site-packages\\sklearn\\feature_extraction\\image.py:167: DeprecationWarning: `np.int` is a deprecated alias for the builtin `int`. To silence this warning, use `int` by itself. Doing this will not modify any behavior and is safe. When replacing `np.int`, you may wish to use e.g. `np.int64` or `np.int32` to specify the precision. If you wish to review your current use, check the release note link for additional information.\n",
      "Deprecated in NumPy 1.20; for more details and guidance: https://numpy.org/devdocs/release/1.20.0-notes.html#deprecations\n",
      "  dtype=np.int):\n"
     ]
    }
   ],
   "source": [
    "import IPython.display as ipd\n",
    "import numpy as np\n",
    "import pandas as pd\n",
    "import librosa\n",
    "import matplotlib.pyplot as plt\n",
    "from scipy.io import wavfile as wav\n",
    "from sklearn import metrics \n",
    "from sklearn.preprocessing import LabelEncoder\n",
    "from sklearn.model_selection import train_test_split \n",
    "from keras.models import Sequential\n",
    "from keras.layers import Dense, Dropout, Activation\n",
    "from keras.optimizers import Adam\n",
    "from keras.utils import to_categorical"
   ]
  },
  {
   "cell_type": "code",
   "execution_count": 9,
   "metadata": {},
   "outputs": [],
   "source": [
    "df = pd.read_csv('dataset.csv')# Create a list of the class labels\n"
   ]
  },
  {
   "cell_type": "code",
   "execution_count": 10,
   "metadata": {},
   "outputs": [
    {
     "name": "stdout",
     "output_type": "stream",
     "text": [
      "Original sample rate: 44100\n",
      "Librosa sample rate: 22050\n"
     ]
    }
   ],
   "source": [
    "fn = 'b_cry/cry/1-60997-A-20.wav'\n",
    "librosa_audio, librosa_sample_rate = librosa.load(fn)\n",
    "scipy_sample_rate, scipy_audio = wav.read(fn)\n",
    "print(\"Original sample rate: {}\".format(scipy_sample_rate))\n",
    "print(\"Librosa sample rate: {}\".format(librosa_sample_rate))"
   ]
  },
  {
   "cell_type": "code",
   "execution_count": 12,
   "metadata": {},
   "outputs": [
    {
     "name": "stdout",
     "output_type": "stream",
     "text": [
      "Original audio file min~max range: -26579 to 17898\n",
      "Librosa audio file min~max range: -0.80 to -0.80\n"
     ]
    }
   ],
   "source": [
    "print('Original audio file min~max range: {} to {}'.format(np.min(scipy_audio), np.max(scipy_audio)))\n",
    "print('Librosa audio file min~max range: {0:.2f} to {0:.2f}'.format(np.min(librosa_audio), np.max(librosa_audio)))"
   ]
  },
  {
   "cell_type": "code",
   "execution_count": 13,
   "metadata": {},
   "outputs": [
    {
     "ename": "NameError",
     "evalue": "name 'experiment' is not defined",
     "output_type": "error",
     "traceback": [
      "\u001b[1;31m---------------------------------------------------------------------------\u001b[0m",
      "\u001b[1;31mNameError\u001b[0m                                 Traceback (most recent call last)",
      "\u001b[1;32m<ipython-input-13-5cbe1d79ec32>\u001b[0m in \u001b[0;36m<module>\u001b[1;34m\u001b[0m\n\u001b[0;32m      2\u001b[0m \u001b[0mplt\u001b[0m\u001b[1;33m.\u001b[0m\u001b[0mplot\u001b[0m\u001b[1;33m(\u001b[0m\u001b[0mscipy_audio\u001b[0m\u001b[1;33m)\u001b[0m\u001b[1;33m\u001b[0m\u001b[1;33m\u001b[0m\u001b[0m\n\u001b[0;32m      3\u001b[0m \u001b[0mplt\u001b[0m\u001b[1;33m.\u001b[0m\u001b[0msavefig\u001b[0m\u001b[1;33m(\u001b[0m\u001b[1;34m'original_audio.png'\u001b[0m\u001b[1;33m)\u001b[0m\u001b[1;33m\u001b[0m\u001b[1;33m\u001b[0m\u001b[0m\n\u001b[1;32m----> 4\u001b[1;33m \u001b[0mexperiment\u001b[0m\u001b[1;33m.\u001b[0m\u001b[0mlog_image\u001b[0m\u001b[1;33m(\u001b[0m\u001b[1;34m'original_audio.png'\u001b[0m\u001b[1;33m)\u001b[0m\u001b[1;33m\u001b[0m\u001b[1;33m\u001b[0m\u001b[0m\n\u001b[0m",
      "\u001b[1;31mNameError\u001b[0m: name 'experiment' is not defined"
     ]
    },
    {
     "data": {
      "image/png": "[encoded data removed]",
      "text/plain": [
       "<Figure size 864x288 with 1 Axes>"
      ]
     },
     "metadata": {
      "needs_background": "light"
     },
     "output_type": "display_data"
    }
   ],
   "source": [
    "plt.figure(figsize=(12, 4))\n",
    "plt.plot(scipy_audio)\n",
    "plt.savefig('original_audio.png')\n",
    "experiment.log_image('original_audio.png')"
   ]
  },
  {
   "cell_type": "code",
   "execution_count": 14,
   "metadata": {},
   "outputs": [],
   "source": [
    "mfccs = librosa.feature.mfcc(y=librosa_audio, sr=librosa_sample_rate, n_mfcc = 40)"
   ]
  },
  {
   "cell_type": "code",
   "execution_count": 15,
   "metadata": {},
   "outputs": [
    {
     "name": "stdout",
     "output_type": "stream",
     "text": [
      "(40, 216)\n"
     ]
    }
   ],
   "source": [
    "print(mfccs.shape)\n"
   ]
  },
  {
   "cell_type": "code",
   "execution_count": 18,
   "metadata": {},
   "outputs": [
    {
     "data": {
      "image/png": "[encoded data removed]",
      "text/plain": [
       "<Figure size 576x576 with 1 Axes>"
      ]
     },
     "metadata": {
      "needs_background": "light"
     },
     "output_type": "display_data"
    }
   ],
   "source": [
    "import librosa.display\n",
    "plt.figure(figsize=(8,8))\n",
    "librosa.display.specshow(mfccs, sr=librosa_sample_rate, x_axis='time')\n",
    "plt.savefig('MFCCs.png')\n"
   ]
  },
  {
   "cell_type": "code",
   "execution_count": 20,
   "metadata": {},
   "outputs": [],
   "source": [
    "def extract_features(file_name):\n",
    "    audio, sample_rate = librosa.load(file_name, res_type='kaiser_fast') \n",
    "    mfccs = librosa.feature.mfcc(y=audio, sr=sample_rate, n_mfcc=40)\n",
    "    mfccs_processed = np.mean(mfccs.T,axis=0)\n",
    "     \n",
    "    return mfccs_processed"
   ]
  },
  {
   "cell_type": "code",
   "execution_count": 24,
   "metadata": {},
   "outputs": [
    {
     "data": {
      "text/plain": [
       "filename              1-187207-A-20.wav\n",
       "chroma_stft                    0.331608\n",
       "rmse                           0.118625\n",
       "spectral_centroid           1472.957975\n",
       "spectral_bandwidth          1616.546255\n",
       "rolloff                     2735.514323\n",
       "zero_crossing_rate             0.072078\n",
       "mfcc1                       -283.164612\n",
       "mfcc2                        102.490028\n",
       "mfcc3                         -8.504624\n",
       "mfcc4                           8.03529\n",
       "mfcc5                        -19.809656\n",
       "mfcc6                          3.051079\n",
       "mfcc7                           2.37923\n",
       "mfcc8                         -7.019489\n",
       "mfcc9                          6.673357\n",
       "mfcc10                         8.143367\n",
       "mfcc11                         1.013203\n",
       "mfcc12                        -2.902098\n",
       "mfcc13                        -4.647758\n",
       "mfcc14                        -1.844332\n",
       "mfcc15                         4.447973\n",
       "mfcc16                         9.988544\n",
       "mfcc17                        11.963989\n",
       "mfcc18                          5.56821\n",
       "mfcc19                        -3.419027\n",
       "mfcc20                        -6.611104\n",
       "label                               cry\n",
       "Name: 0, dtype: object"
      ]
     },
     "execution_count": 24,
     "metadata": {},
     "output_type": "execute_result"
    }
   ],
   "source": [
    "df.iloc[0]"
   ]
  },
  {
   "cell_type": "code",
   "execution_count": 26,
   "metadata": {},
   "outputs": [],
   "source": [
    "from sklearn.preprocessing import LabelEncoder\n",
    "from keras.utils import to_categorical\n",
    "# Convert features and corresponding classification labels into numpy arrays\n",
    "data = pd.read_csv('dataset.csv')\n",
    "data.head()# Dropping unneccesary columns\n",
    "data = data.drop(['filename'],axis=1)#Encoding the Labels\n",
    "genre_list = data.iloc[:, -1]\n",
    "encoder = LabelEncoder()\n",
    "y = to_categorical(encoder.fit_transform(genre_list))"
   ]
  },
  {
   "cell_type": "code",
   "execution_count": 27,
   "metadata": {},
   "outputs": [],
   "source": [
    "X =np.array(data.iloc[:, :-1], dtype = float)"
   ]
  },
  {
   "cell_type": "code",
   "execution_count": 29,
   "metadata": {},
   "outputs": [],
   "source": [
    "from sklearn.model_selection import train_test_split \n",
    "x_train, x_test, y_train, y_test = train_test_split(X, y, test_size=0.2, random_state = 127)"
   ]
  },
  {
   "cell_type": "code",
   "execution_count": 33,
   "metadata": {},
   "outputs": [],
   "source": [
    "num_labels = y.shape[1]\n",
    "filter_size = 2\n",
    "def build_model_graph(input_shape=(40,)):\n",
    "    model = Sequential()\n",
    "    model.add(Dense(256))\n",
    "    model.add(Activation('relu'))\n",
    "    model.add(Dropout(0.5))\n",
    "    model.add(Dense(256))\n",
    "    model.add(Activation('relu'))\n",
    "    model.add(Dropout(0.5))\n",
    "    model.add(Dense(num_labels))\n",
    "    model.add(Activation('softmax'))\n",
    "    # Compile the model\n",
    "    model.compile(loss='categorical_crossentropy', metrics=['accuracy'], optimizer='adam')\n",
    "    return model\n",
    "\n",
    "model = build_model_graph()"
   ]
  },
  {
   "cell_type": "code",
   "execution_count": 39,
   "metadata": {},
   "outputs": [
    {
     "name": "stdout",
     "output_type": "stream",
     "text": [
      "Model: \"sequential_1\"\n",
      "_________________________________________________________________\n",
      "Layer (type)                 Output Shape              Param #   \n",
      "=================================================================\n",
      "dense_3 (Dense)              multiple                  6912      \n",
      "_________________________________________________________________\n",
      "activation_3 (Activation)    multiple                  0         \n",
      "_________________________________________________________________\n",
      "dropout_2 (Dropout)          multiple                  0         \n",
      "_________________________________________________________________\n",
      "dense_4 (Dense)              multiple                  65792     \n",
      "_________________________________________________________________\n",
      "activation_4 (Activation)    multiple                  0         \n",
      "_________________________________________________________________\n",
      "dropout_3 (Dropout)          multiple                  0         \n",
      "_________________________________________________________________\n",
      "dense_5 (Dense)              multiple                  514       \n",
      "_________________________________________________________________\n",
      "activation_5 (Activation)    multiple                  0         \n",
      "=================================================================\n",
      "Total params: 73,218\n",
      "Trainable params: 73,218\n",
      "Non-trainable params: 0\n",
      "_________________________________________________________________\n"
     ]
    }
   ],
   "source": [
    "# Display model architecture summary \n",
    "model.summary()\n",
    "# Calculate pre-training accuracy \n",
    "score = model.evaluate(x_test, y_test, verbose=0)\n",
    "accuracy = 100*score[1]"
   ]
  },
  {
   "cell_type": "code",
   "execution_count": 40,
   "metadata": {},
   "outputs": [
    {
     "name": "stdout",
     "output_type": "stream",
     "text": [
      "Pre-training accuracy: 44.1176%\n"
     ]
    }
   ],
   "source": [
    "print(\"Pre-training accuracy: %.4f%%\" % accuracy)\n"
   ]
  },
  {
   "cell_type": "code",
   "execution_count": 41,
   "metadata": {},
   "outputs": [
    {
     "name": "stdout",
     "output_type": "stream",
     "text": [
      "Epoch 1/100\n",
      "5/5 [==============================] - ETA: 0s - loss: 2.5098 - accuracy: 0.50 - 0s 18ms/step - loss: 2.6647 - accuracy: 0.5630 - val_loss: 0.6378 - val_accuracy: 0.6176\n",
      "Epoch 2/100\n",
      "5/5 [==============================] - ETA: 0s - loss: 3.4772 - accuracy: 0.46 - 0s 16ms/step - loss: 2.2826 - accuracy: 0.5630 - val_loss: 0.6264 - val_accuracy: 0.6176\n",
      "Epoch 3/100\n",
      "5/5 [==============================] - ETA: 0s - loss: 1.9126 - accuracy: 0.53 - 0s 19ms/step - loss: 3.1255 - accuracy: 0.4963 - val_loss: 0.6419 - val_accuracy: 0.3529\n",
      "Epoch 4/100\n",
      "5/5 [==============================] - ETA: 0s - loss: 1.7792 - accuracy: 0.59 - 0s 18ms/step - loss: 1.4203 - accuracy: 0.6148 - val_loss: 0.6451 - val_accuracy: 0.4412\n",
      "Epoch 5/100\n",
      "5/5 [==============================] - ETA: 0s - loss: 0.5998 - accuracy: 0.75 - 0s 19ms/step - loss: 2.0257 - accuracy: 0.5852 - val_loss: 0.6440 - val_accuracy: 0.4706\n",
      "Epoch 6/100\n",
      "5/5 [==============================] - ETA: 0s - loss: 1.6984 - accuracy: 0.50 - 0s 16ms/step - loss: 2.0062 - accuracy: 0.5259 - val_loss: 0.6347 - val_accuracy: 0.6176\n",
      "Epoch 7/100\n",
      "5/5 [==============================] - ETA: 0s - loss: 2.8186 - accuracy: 0.62 - 0s 18ms/step - loss: 3.0729 - accuracy: 0.4889 - val_loss: 0.6266 - val_accuracy: 0.6176\n",
      "Epoch 8/100\n",
      "5/5 [==============================] - ETA: 0s - loss: 2.3697 - accuracy: 0.53 - 0s 21ms/step - loss: 2.3276 - accuracy: 0.5704 - val_loss: 0.6175 - val_accuracy: 0.6176\n",
      "Epoch 9/100\n",
      "5/5 [==============================] - ETA: 0s - loss: 2.9552 - accuracy: 0.56 - 0s 19ms/step - loss: 2.1626 - accuracy: 0.5926 - val_loss: 0.6191 - val_accuracy: 0.6176\n",
      "Epoch 10/100\n",
      "5/5 [==============================] - ETA: 0s - loss: 5.8979 - accuracy: 0.37 - 0s 18ms/step - loss: 2.9942 - accuracy: 0.5259 - val_loss: 0.6182 - val_accuracy: 0.6176\n",
      "Epoch 11/100\n",
      "5/5 [==============================] - ETA: 0s - loss: 1.4695 - accuracy: 0.46 - 0s 17ms/step - loss: 2.0163 - accuracy: 0.5630 - val_loss: 0.6202 - val_accuracy: 0.6176\n",
      "Epoch 12/100\n",
      "5/5 [==============================] - ETA: 0s - loss: 1.3616 - accuracy: 0.62 - 0s 17ms/step - loss: 1.6982 - accuracy: 0.6000 - val_loss: 0.6224 - val_accuracy: 0.6176\n",
      "Epoch 13/100\n",
      "5/5 [==============================] - ETA: 0s - loss: 0.7579 - accuracy: 0.65 - 0s 21ms/step - loss: 1.4963 - accuracy: 0.6074 - val_loss: 0.6250 - val_accuracy: 0.6176\n",
      "Epoch 14/100\n",
      "5/5 [==============================] - ETA: 0s - loss: 2.1798 - accuracy: 0.37 - 0s 20ms/step - loss: 2.0880 - accuracy: 0.5481 - val_loss: 0.6246 - val_accuracy: 0.6176\n",
      "Epoch 15/100\n",
      "5/5 [==============================] - ETA: 0s - loss: 2.2832 - accuracy: 0.46 - 0s 17ms/step - loss: 2.8879 - accuracy: 0.5037 - val_loss: 0.6331 - val_accuracy: 0.6176\n",
      "Epoch 16/100\n",
      "5/5 [==============================] - ETA: 0s - loss: 4.7783 - accuracy: 0.50 - 0s 23ms/step - loss: 2.5337 - accuracy: 0.5333 - val_loss: 0.6426 - val_accuracy: 0.6176\n",
      "Epoch 17/100\n",
      "5/5 [==============================] - ETA: 0s - loss: 1.2464 - accuracy: 0.68 - 0s 19ms/step - loss: 1.1244 - accuracy: 0.6074 - val_loss: 0.6410 - val_accuracy: 0.6176\n",
      "Epoch 18/100\n",
      "5/5 [==============================] - ETA: 0s - loss: 0.5846 - accuracy: 0.71 - 0s 16ms/step - loss: 1.2872 - accuracy: 0.6000 - val_loss: 0.6347 - val_accuracy: 0.6176\n",
      "Epoch 19/100\n",
      "5/5 [==============================] - ETA: 0s - loss: 1.7866 - accuracy: 0.46 - 0s 18ms/step - loss: 1.5190 - accuracy: 0.5926 - val_loss: 0.6333 - val_accuracy: 0.6176\n",
      "Epoch 20/100\n",
      "5/5 [==============================] - ETA: 0s - loss: 1.7100 - accuracy: 0.71 - 0s 22ms/step - loss: 2.1165 - accuracy: 0.4963 - val_loss: 0.6310 - val_accuracy: 0.6176\n",
      "Epoch 21/100\n",
      "5/5 [==============================] - ETA: 0s - loss: 0.9825 - accuracy: 0.59 - 0s 20ms/step - loss: 1.3370 - accuracy: 0.5111 - val_loss: 0.6309 - val_accuracy: 0.6176\n",
      "Epoch 22/100\n",
      "5/5 [==============================] - ETA: 0s - loss: 1.0840 - accuracy: 0.68 - 0s 19ms/step - loss: 1.2325 - accuracy: 0.5481 - val_loss: 0.6424 - val_accuracy: 0.6176\n",
      "Epoch 23/100\n",
      "5/5 [==============================] - ETA: 0s - loss: 1.0208 - accuracy: 0.56 - 0s 20ms/step - loss: 0.9052 - accuracy: 0.6222 - val_loss: 0.6434 - val_accuracy: 0.6176\n",
      "Epoch 24/100\n",
      "5/5 [==============================] - ETA: 0s - loss: 1.1148 - accuracy: 0.46 - 0s 26ms/step - loss: 1.0042 - accuracy: 0.5407 - val_loss: 0.6333 - val_accuracy: 0.6176\n",
      "Epoch 25/100\n",
      "5/5 [==============================] - ETA: 0s - loss: 1.1762 - accuracy: 0.56 - 0s 23ms/step - loss: 1.3128 - accuracy: 0.5852 - val_loss: 0.6265 - val_accuracy: 0.6176\n",
      "Epoch 26/100\n",
      "5/5 [==============================] - ETA: 0s - loss: 1.8170 - accuracy: 0.50 - 0s 20ms/step - loss: 1.7828 - accuracy: 0.5556 - val_loss: 0.6308 - val_accuracy: 0.6176\n",
      "Epoch 27/100\n",
      "5/5 [==============================] - ETA: 0s - loss: 0.7978 - accuracy: 0.46 - 0s 24ms/step - loss: 1.4440 - accuracy: 0.5259 - val_loss: 0.6413 - val_accuracy: 0.6176\n",
      "Epoch 28/100\n",
      "5/5 [==============================] - ETA: 0s - loss: 1.8348 - accuracy: 0.53 - 0s 24ms/step - loss: 1.8275 - accuracy: 0.6074 - val_loss: 0.6448 - val_accuracy: 0.4412\n",
      "Epoch 29/100\n",
      "5/5 [==============================] - ETA: 0s - loss: 2.6098 - accuracy: 0.56 - 0s 21ms/step - loss: 1.5263 - accuracy: 0.5037 - val_loss: 0.6356 - val_accuracy: 0.6176\n",
      "Epoch 30/100\n",
      "5/5 [==============================] - ETA: 0s - loss: 1.3469 - accuracy: 0.68 - 0s 20ms/step - loss: 1.3860 - accuracy: 0.5778 - val_loss: 0.6249 - val_accuracy: 0.6176\n",
      "Epoch 31/100\n",
      "5/5 [==============================] - ETA: 0s - loss: 0.9601 - accuracy: 0.40 - 0s 19ms/step - loss: 1.7713 - accuracy: 0.5407 - val_loss: 0.6243 - val_accuracy: 0.6176\n",
      "Epoch 32/100\n",
      "5/5 [==============================] - ETA: 0s - loss: 1.7615 - accuracy: 0.46 - 0s 34ms/step - loss: 1.3057 - accuracy: 0.5333 - val_loss: 0.6281 - val_accuracy: 0.6176\n",
      "Epoch 33/100\n",
      "5/5 [==============================] - ETA: 0s - loss: 1.5410 - accuracy: 0.53 - 0s 19ms/step - loss: 1.1193 - accuracy: 0.6074 - val_loss: 0.6349 - val_accuracy: 0.6176\n",
      "Epoch 34/100\n",
      "5/5 [==============================] - ETA: 0s - loss: 1.2110 - accuracy: 0.65 - 0s 18ms/step - loss: 1.3100 - accuracy: 0.5556 - val_loss: 0.6353 - val_accuracy: 0.6176\n",
      "Epoch 35/100\n",
      "5/5 [==============================] - ETA: 0s - loss: 0.7318 - accuracy: 0.71 - 0s 17ms/step - loss: 1.3182 - accuracy: 0.5630 - val_loss: 0.6349 - val_accuracy: 0.6176\n",
      "Epoch 36/100\n",
      "5/5 [==============================] - ETA: 0s - loss: 2.1722 - accuracy: 0.43 - 0s 17ms/step - loss: 1.6598 - accuracy: 0.5630 - val_loss: 0.6372 - val_accuracy: 0.6176\n",
      "Epoch 37/100\n",
      "5/5 [==============================] - ETA: 0s - loss: 1.3224 - accuracy: 0.62 - 0s 17ms/step - loss: 1.2216 - accuracy: 0.6000 - val_loss: 0.6381 - val_accuracy: 0.6176\n",
      "Epoch 38/100\n",
      "5/5 [==============================] - ETA: 0s - loss: 1.1800 - accuracy: 0.62 - 0s 17ms/step - loss: 1.3519 - accuracy: 0.6296 - val_loss: 0.6431 - val_accuracy: 0.6176\n",
      "Epoch 39/100\n",
      "5/5 [==============================] - ETA: 0s - loss: 3.0020 - accuracy: 0.62 - 0s 17ms/step - loss: 1.8919 - accuracy: 0.6074 - val_loss: 0.6513 - val_accuracy: 0.6176\n",
      "Epoch 40/100\n",
      "5/5 [==============================] - ETA: 0s - loss: 0.8336 - accuracy: 0.62 - 0s 18ms/step - loss: 1.3358 - accuracy: 0.5778 - val_loss: 0.6498 - val_accuracy: 0.6176\n",
      "Epoch 41/100\n",
      "5/5 [==============================] - ETA: 0s - loss: 1.4108 - accuracy: 0.56 - 0s 38ms/step - loss: 1.3991 - accuracy: 0.5926 - val_loss: 0.6409 - val_accuracy: 0.6176\n",
      "Epoch 42/100\n",
      "5/5 [==============================] - ETA: 0s - loss: 1.0869 - accuracy: 0.53 - 0s 33ms/step - loss: 1.9690 - accuracy: 0.5407 - val_loss: 0.6331 - val_accuracy: 0.6176\n",
      "Epoch 43/100\n",
      "5/5 [==============================] - ETA: 0s - loss: 0.7049 - accuracy: 0.62 - 0s 30ms/step - loss: 1.0623 - accuracy: 0.5630 - val_loss: 0.6387 - val_accuracy: 0.6176\n",
      "Epoch 44/100\n",
      "5/5 [==============================] - ETA: 0s - loss: 0.6515 - accuracy: 0.68 - 0s 33ms/step - loss: 0.8575 - accuracy: 0.6593 - val_loss: 0.6431 - val_accuracy: 0.6176\n",
      "Epoch 45/100\n",
      "5/5 [==============================] - ETA: 0s - loss: 2.1587 - accuracy: 0.59 - 0s 21ms/step - loss: 1.4107 - accuracy: 0.6370 - val_loss: 0.6406 - val_accuracy: 0.6176\n"
     ]
    },
    {
     "name": "stdout",
     "output_type": "stream",
     "text": [
      "Epoch 46/100\n",
      "5/5 [==============================] - ETA: 0s - loss: 0.9718 - accuracy: 0.46 - 0s 24ms/step - loss: 1.0595 - accuracy: 0.5852 - val_loss: 0.6352 - val_accuracy: 0.6176\n",
      "Epoch 47/100\n",
      "5/5 [==============================] - ETA: 0s - loss: 1.0428 - accuracy: 0.65 - 0s 21ms/step - loss: 1.3482 - accuracy: 0.6222 - val_loss: 0.6271 - val_accuracy: 0.6176\n",
      "Epoch 48/100\n",
      "5/5 [==============================] - ETA: 0s - loss: 0.6296 - accuracy: 0.65 - 0s 17ms/step - loss: 0.8328 - accuracy: 0.5407 - val_loss: 0.6251 - val_accuracy: 0.6176\n",
      "Epoch 49/100\n",
      "5/5 [==============================] - ETA: 0s - loss: 1.0517 - accuracy: 0.46 - 0s 17ms/step - loss: 1.0901 - accuracy: 0.5407 - val_loss: 0.6278 - val_accuracy: 0.6176\n",
      "Epoch 50/100\n",
      "5/5 [==============================] - ETA: 0s - loss: 1.4203 - accuracy: 0.53 - 0s 18ms/step - loss: 1.3914 - accuracy: 0.5926 - val_loss: 0.6352 - val_accuracy: 0.6176\n",
      "Epoch 51/100\n",
      "5/5 [==============================] - ETA: 0s - loss: 0.9140 - accuracy: 0.50 - 0s 21ms/step - loss: 1.3112 - accuracy: 0.5333 - val_loss: 0.6409 - val_accuracy: 0.6176\n",
      "Epoch 52/100\n",
      "5/5 [==============================] - ETA: 0s - loss: 2.9998 - accuracy: 0.68 - 0s 17ms/step - loss: 1.3753 - accuracy: 0.6148 - val_loss: 0.6467 - val_accuracy: 0.6176\n",
      "Epoch 53/100\n",
      "5/5 [==============================] - ETA: 0s - loss: 1.0368 - accuracy: 0.40 - 0s 20ms/step - loss: 0.8651 - accuracy: 0.4741 - val_loss: 0.6456 - val_accuracy: 0.6176\n",
      "Epoch 54/100\n",
      "5/5 [==============================] - ETA: 0s - loss: 0.6074 - accuracy: 0.71 - 0s 20ms/step - loss: 1.1418 - accuracy: 0.5704 - val_loss: 0.6471 - val_accuracy: 0.6176\n",
      "Epoch 55/100\n",
      "5/5 [==============================] - ETA: 0s - loss: 0.9373 - accuracy: 0.62 - 0s 23ms/step - loss: 1.3431 - accuracy: 0.5556 - val_loss: 0.6503 - val_accuracy: 0.6176\n",
      "Epoch 56/100\n",
      "5/5 [==============================] - ETA: 0s - loss: 1.0218 - accuracy: 0.53 - 0s 19ms/step - loss: 1.2756 - accuracy: 0.5185 - val_loss: 0.6543 - val_accuracy: 0.6176\n",
      "Epoch 57/100\n",
      "5/5 [==============================] - ETA: 0s - loss: 1.0934 - accuracy: 0.62 - 0s 18ms/step - loss: 0.9118 - accuracy: 0.5556 - val_loss: 0.6507 - val_accuracy: 0.6176\n",
      "Epoch 58/100\n",
      "5/5 [==============================] - ETA: 0s - loss: 0.7503 - accuracy: 0.46 - 0s 17ms/step - loss: 1.0901 - accuracy: 0.6000 - val_loss: 0.6476 - val_accuracy: 0.6176\n",
      "Epoch 59/100\n",
      "5/5 [==============================] - ETA: 0s - loss: 0.8365 - accuracy: 0.59 - 0s 21ms/step - loss: 1.1914 - accuracy: 0.5704 - val_loss: 0.6407 - val_accuracy: 0.6176\n",
      "Epoch 60/100\n",
      "5/5 [==============================] - ETA: 0s - loss: 1.3804 - accuracy: 0.56 - 0s 28ms/step - loss: 0.8647 - accuracy: 0.6296 - val_loss: 0.6352 - val_accuracy: 0.6176\n",
      "Epoch 61/100\n",
      "5/5 [==============================] - ETA: 0s - loss: 1.1621 - accuracy: 0.59 - 0s 21ms/step - loss: 1.3135 - accuracy: 0.6370 - val_loss: 0.6364 - val_accuracy: 0.6176\n",
      "Epoch 62/100\n",
      "5/5 [==============================] - ETA: 0s - loss: 0.7841 - accuracy: 0.59 - 0s 24ms/step - loss: 0.8601 - accuracy: 0.6148 - val_loss: 0.6365 - val_accuracy: 0.6176\n",
      "Epoch 63/100\n",
      "5/5 [==============================] - ETA: 0s - loss: 0.8685 - accuracy: 0.46 - 0s 26ms/step - loss: 0.9700 - accuracy: 0.5185 - val_loss: 0.6347 - val_accuracy: 0.6176\n",
      "Epoch 64/100\n",
      "5/5 [==============================] - ETA: 0s - loss: 1.0071 - accuracy: 0.62 - 0s 23ms/step - loss: 1.0281 - accuracy: 0.5852 - val_loss: 0.6364 - val_accuracy: 0.6176\n",
      "Epoch 65/100\n",
      "5/5 [==============================] - ETA: 0s - loss: 0.7677 - accuracy: 0.50 - 0s 24ms/step - loss: 1.1391 - accuracy: 0.5704 - val_loss: 0.6428 - val_accuracy: 0.6176\n",
      "Epoch 66/100\n",
      "5/5 [==============================] - ETA: 0s - loss: 3.5598 - accuracy: 0.56 - 0s 25ms/step - loss: 1.6163 - accuracy: 0.5259 - val_loss: 0.6512 - val_accuracy: 0.6176\n",
      "Epoch 67/100\n",
      "5/5 [==============================] - ETA: 0s - loss: 1.0115 - accuracy: 0.50 - 0s 25ms/step - loss: 0.9205 - accuracy: 0.5481 - val_loss: 0.6523 - val_accuracy: 0.6176\n",
      "Epoch 68/100\n",
      "5/5 [==============================] - ETA: 0s - loss: 1.6201 - accuracy: 0.59 - 0s 25ms/step - loss: 1.3236 - accuracy: 0.5481 - val_loss: 0.6474 - val_accuracy: 0.6176\n",
      "Epoch 69/100\n",
      "5/5 [==============================] - ETA: 0s - loss: 0.9080 - accuracy: 0.56 - 0s 26ms/step - loss: 0.9642 - accuracy: 0.6074 - val_loss: 0.6414 - val_accuracy: 0.6176\n",
      "Epoch 70/100\n",
      "5/5 [==============================] - ETA: 0s - loss: 2.4780 - accuracy: 0.53 - 0s 30ms/step - loss: 1.4129 - accuracy: 0.5926 - val_loss: 0.6392 - val_accuracy: 0.6176\n",
      "Epoch 71/100\n",
      "5/5 [==============================] - ETA: 0s - loss: 0.7589 - accuracy: 0.46 - 0s 27ms/step - loss: 1.0379 - accuracy: 0.5778 - val_loss: 0.6378 - val_accuracy: 0.6176\n",
      "Epoch 72/100\n",
      "5/5 [==============================] - ETA: 0s - loss: 0.7521 - accuracy: 0.75 - 0s 20ms/step - loss: 0.8554 - accuracy: 0.6148 - val_loss: 0.6402 - val_accuracy: 0.6176\n",
      "Epoch 73/100\n",
      "5/5 [==============================] - ETA: 0s - loss: 0.7683 - accuracy: 0.46 - 0s 20ms/step - loss: 0.9133 - accuracy: 0.6148 - val_loss: 0.6425 - val_accuracy: 0.6176\n",
      "Epoch 74/100\n",
      "5/5 [==============================] - ETA: 0s - loss: 0.5471 - accuracy: 0.65 - 0s 21ms/step - loss: 0.8107 - accuracy: 0.6074 - val_loss: 0.6411 - val_accuracy: 0.6176\n",
      "Epoch 75/100\n",
      "5/5 [==============================] - ETA: 0s - loss: 0.6623 - accuracy: 0.62 - 0s 23ms/step - loss: 0.7848 - accuracy: 0.5556 - val_loss: 0.6390 - val_accuracy: 0.6176\n",
      "Epoch 76/100\n",
      "5/5 [==============================] - ETA: 0s - loss: 0.7266 - accuracy: 0.59 - 0s 26ms/step - loss: 0.9562 - accuracy: 0.5630 - val_loss: 0.6375 - val_accuracy: 0.6176\n",
      "Epoch 77/100\n",
      "5/5 [==============================] - ETA: 0s - loss: 0.9698 - accuracy: 0.56 - 0s 22ms/step - loss: 1.0682 - accuracy: 0.5630 - val_loss: 0.6358 - val_accuracy: 0.6176\n",
      "Epoch 78/100\n",
      "5/5 [==============================] - ETA: 0s - loss: 0.6195 - accuracy: 0.65 - 0s 22ms/step - loss: 0.9412 - accuracy: 0.6148 - val_loss: 0.6353 - val_accuracy: 0.6176\n",
      "Epoch 79/100\n",
      "5/5 [==============================] - ETA: 0s - loss: 0.7985 - accuracy: 0.62 - 0s 26ms/step - loss: 0.6895 - accuracy: 0.6148 - val_loss: 0.6349 - val_accuracy: 0.6176\n",
      "Epoch 80/100\n",
      "5/5 [==============================] - ETA: 0s - loss: 0.7741 - accuracy: 0.50 - 0s 17ms/step - loss: 0.7673 - accuracy: 0.5407 - val_loss: 0.6349 - val_accuracy: 0.6176\n",
      "Epoch 81/100\n",
      "5/5 [==============================] - ETA: 0s - loss: 0.6798 - accuracy: 0.53 - 0s 19ms/step - loss: 1.3481 - accuracy: 0.5111 - val_loss: 0.6356 - val_accuracy: 0.6176\n",
      "Epoch 82/100\n",
      "5/5 [==============================] - ETA: 0s - loss: 0.6370 - accuracy: 0.68 - 0s 36ms/step - loss: 0.6834 - accuracy: 0.6148 - val_loss: 0.6391 - val_accuracy: 0.6176\n",
      "Epoch 83/100\n",
      "5/5 [==============================] - ETA: 0s - loss: 1.3516 - accuracy: 0.56 - 0s 35ms/step - loss: 1.0286 - accuracy: 0.5630 - val_loss: 0.6409 - val_accuracy: 0.6176\n",
      "Epoch 84/100\n",
      "5/5 [==============================] - ETA: 0s - loss: 0.6879 - accuracy: 0.62 - 0s 42ms/step - loss: 0.9451 - accuracy: 0.5556 - val_loss: 0.6410 - val_accuracy: 0.6176\n",
      "Epoch 85/100\n",
      "5/5 [==============================] - ETA: 0s - loss: 0.7142 - accuracy: 0.53 - 0s 38ms/step - loss: 0.8567 - accuracy: 0.5926 - val_loss: 0.6406 - val_accuracy: 0.6176\n",
      "Epoch 86/100\n",
      "5/5 [==============================] - ETA: 0s - loss: 0.6848 - accuracy: 0.56 - 0s 19ms/step - loss: 0.7945 - accuracy: 0.5926 - val_loss: 0.6396 - val_accuracy: 0.6176\n",
      "Epoch 87/100\n",
      "5/5 [==============================] - ETA: 0s - loss: 0.9087 - accuracy: 0.71 - 0s 19ms/step - loss: 1.6885 - accuracy: 0.5630 - val_loss: 0.6388 - val_accuracy: 0.6176\n",
      "Epoch 88/100\n",
      "5/5 [==============================] - ETA: 0s - loss: 0.7777 - accuracy: 0.62 - 0s 27ms/step - loss: 0.9383 - accuracy: 0.5556 - val_loss: 0.6398 - val_accuracy: 0.6176\n",
      "Epoch 89/100\n",
      "5/5 [==============================] - ETA: 0s - loss: 0.7853 - accuracy: 0.50 - 0s 22ms/step - loss: 0.7283 - accuracy: 0.5704 - val_loss: 0.6409 - val_accuracy: 0.6176\n",
      "Epoch 90/100\n",
      "5/5 [==============================] - ETA: 0s - loss: 0.7093 - accuracy: 0.53 - 0s 20ms/step - loss: 1.2189 - accuracy: 0.5630 - val_loss: 0.6431 - val_accuracy: 0.6176\n"
     ]
    },
    {
     "name": "stdout",
     "output_type": "stream",
     "text": [
      "Epoch 91/100\n",
      "5/5 [==============================] - ETA: 0s - loss: 0.6069 - accuracy: 0.65 - 0s 20ms/step - loss: 0.7600 - accuracy: 0.6222 - val_loss: 0.6436 - val_accuracy: 0.6176\n",
      "Epoch 92/100\n",
      "5/5 [==============================] - ETA: 0s - loss: 0.6764 - accuracy: 0.50 - 0s 16ms/step - loss: 1.0451 - accuracy: 0.5704 - val_loss: 0.6386 - val_accuracy: 0.6176\n",
      "Epoch 93/100\n",
      "5/5 [==============================] - ETA: 0s - loss: 1.1226 - accuracy: 0.59 - 0s 20ms/step - loss: 1.0518 - accuracy: 0.5407 - val_loss: 0.6373 - val_accuracy: 0.6176\n",
      "Epoch 94/100\n",
      "5/5 [==============================] - ETA: 0s - loss: 0.6314 - accuracy: 0.75 - 0s 20ms/step - loss: 0.8109 - accuracy: 0.5704 - val_loss: 0.6372 - val_accuracy: 0.6176\n",
      "Epoch 95/100\n",
      "5/5 [==============================] - ETA: 0s - loss: 0.9149 - accuracy: 0.50 - 0s 16ms/step - loss: 0.9159 - accuracy: 0.5481 - val_loss: 0.6378 - val_accuracy: 0.6176\n",
      "Epoch 96/100\n",
      "5/5 [==============================] - ETA: 0s - loss: 0.5284 - accuracy: 0.75 - 0s 20ms/step - loss: 0.5834 - accuracy: 0.6741 - val_loss: 0.6375 - val_accuracy: 0.6176\n",
      "Epoch 97/100\n",
      "5/5 [==============================] - ETA: 0s - loss: 0.7642 - accuracy: 0.43 - 0s 23ms/step - loss: 0.7188 - accuracy: 0.5926 - val_loss: 0.6363 - val_accuracy: 0.6176\n",
      "Epoch 98/100\n",
      "5/5 [==============================] - ETA: 0s - loss: 0.8224 - accuracy: 0.59 - 0s 17ms/step - loss: 0.8853 - accuracy: 0.6148 - val_loss: 0.6356 - val_accuracy: 0.6176\n",
      "Epoch 99/100\n",
      "5/5 [==============================] - ETA: 0s - loss: 1.1466 - accuracy: 0.56 - 0s 19ms/step - loss: 0.9214 - accuracy: 0.6148 - val_loss: 0.6349 - val_accuracy: 0.6176\n",
      "Epoch 100/100\n",
      "5/5 [==============================] - ETA: 0s - loss: 0.8127 - accuracy: 0.59 - 0s 19ms/step - loss: 0.7159 - accuracy: 0.5926 - val_loss: 0.6338 - val_accuracy: 0.6176\n"
     ]
    },
    {
     "data": {
      "text/plain": [
       "<tensorflow.python.keras.callbacks.History at 0x15ec41d3b38>"
      ]
     },
     "execution_count": 41,
     "metadata": {},
     "output_type": "execute_result"
    }
   ],
   "source": [
    "from keras.callbacks import ModelCheckpoint \n",
    "from datetime import datetime \n",
    "num_epochs = 100\n",
    "num_batch_size = 32\n",
    "model.fit(x_train, y_train, batch_size=num_batch_size, epochs=num_epochs, validation_data=(x_test, y_test), verbose=1)"
   ]
  },
  {
   "cell_type": "code",
   "execution_count": 42,
   "metadata": {},
   "outputs": [
    {
     "name": "stdout",
     "output_type": "stream",
     "text": [
      "Training Accuracy: 57.78%\n",
      "Testing Accuracy: 61.76%\n"
     ]
    }
   ],
   "source": [
    "score = model.evaluate(x_train, y_train, verbose=0)\n",
    "print(\"Training Accuracy: {0:.2%}\".format(score[1]))\n",
    "score = model.evaluate(x_test, y_test, verbose=0)\n",
    "print(\"Testing Accuracy: {0:.2%}\".format(score[1]))"
   ]
  },
  {
   "cell_type": "code",
   "execution_count": 216,
   "metadata": {},
   "outputs": [
    {
     "name": "stdout",
     "output_type": "stream",
     "text": [
      "* recording\n",
      "* done recording\n"
     ]
    }
   ],
   "source": [
    "import pyaudio\n",
    "import wave\n",
    "\n",
    "CHUNK = 1024\n",
    "FORMAT = pyaudio.paInt16\n",
    "CHANNELS = 2\n",
    "RATE = 44100\n",
    "RECORD_SECONDS = 5\n",
    "WAVE_OUTPUT_FILENAME = \"output.wav\"\n",
    "\n",
    "p = pyaudio.PyAudio()\n",
    "\n",
    "stream = p.open(format=FORMAT,\n",
    "                channels=CHANNELS,\n",
    "                rate=RATE,\n",
    "                input=True,\n",
    "                frames_per_buffer=CHUNK)\n",
    "\n",
    "print(\"* recording\")\n",
    "\n",
    "frames = []\n",
    "\n",
    "for i in range(0, int(RATE / CHUNK * RECORD_SECONDS)):\n",
    "    data = stream.read(CHUNK)\n",
    "    frames.append(data)\n",
    "\n",
    "print(\"* done recording\")\n",
    "\n",
    "stream.stop_stream()\n",
    "stream.close()\n",
    "p.terminate()\n",
    "\n",
    "wf = wave.open(WAVE_OUTPUT_FILENAME, 'wb')\n",
    "wf.setnchannels(CHANNELS)\n",
    "wf.setsampwidth(p.get_sample_size(FORMAT))\n",
    "wf.setframerate(RATE)\n",
    "wf.writeframes(b''.join(frames))\n",
    "wf.close()"
   ]
  },
  {
   "cell_type": "code",
   "execution_count": 217,
   "metadata": {},
   "outputs": [
    {
     "data": {
      "text/plain": [
       "<Figure size 576x576 with 0 Axes>"
      ]
     },
     "metadata": {},
     "output_type": "display_data"
    }
   ],
   "source": [
    "import pathlib\n",
    "cmap = plt.get_cmap('inferno')\n",
    "plt.figure(figsize=(8,8))\n",
    "pathlib.Path(f'live_data/').mkdir(parents=True, exist_ok=True)\n",
    "# for filename in os.listdir(f'b_cry/{g}'):\n",
    "songname = f'output.wav'\n",
    "y, sr = librosa.load(songname, mono=True, duration=7)\n",
    "plt.specgram(y, NFFT=2048, Fs=2, Fc=0, noverlap=128, cmap=cmap, sides='default', mode='default', scale='dB');\n",
    "plt.axis('off');\n",
    "plt.savefig(f'live_data/output.png')\n",
    "plt.clf()"
   ]
  },
  {
   "cell_type": "code",
   "execution_count": 218,
   "metadata": {},
   "outputs": [],
   "source": [
    "header = 'filename chroma_stft rmse spectral_centroid spectral_bandwidth rolloff zero_crossing_rate'\n",
    "for i in range(1, 21):\n",
    "    header += f' mfcc{i}'\n",
    "header += ' label'\n",
    "header = header.split()"
   ]
  },
  {
   "cell_type": "code",
   "execution_count": 219,
   "metadata": {},
   "outputs": [],
   "source": [
    "import csv\n",
    "file = open('predict.csv', 'w', newline='')\n",
    "with file:\n",
    "    writer = csv.writer(file)\n",
    "    writer.writerow(header)\n",
    "# genres = 'discomfort belly_pain burping hungry'.split()\n",
    "# for g in genres:\n",
    "#     for filename in os.listdir(f'b_cry/{g}'):\n",
    "# songname = f'b_cry/{g}/{filename}'\n",
    "songname = f'output.wav'\n",
    "y, sr = librosa.load(songname, mono=True, duration=5)\n",
    "rmse = librosa.feature.rms(y=y)\n",
    "chroma_stft = librosa.feature.chroma_stft(y=y, sr=sr)\n",
    "spec_cent = librosa.feature.spectral_centroid(y=y, sr=sr)\n",
    "spec_bw = librosa.feature.spectral_bandwidth(y=y, sr=sr)\n",
    "rolloff = librosa.feature.spectral_rolloff(y=y, sr=sr)\n",
    "zcr = librosa.feature.zero_crossing_rate(y)\n",
    "mfcc = librosa.feature.mfcc(y=y, sr=sr)\n",
    "to_append = f'output.wav {np.mean(chroma_stft)} {np.mean(rmse)} {np.mean(spec_cent)} {np.mean(spec_bw)} {np.mean(rolloff)} {np.mean(zcr)}'   \n",
    "for e in mfcc:\n",
    "    to_append += f' {np.mean(e)}'\n",
    "# to_append += f' {model.predict(live_data.iloc[0])}'\n",
    "#to_append += f' live_data_genre'\n",
    "file = open('predict.csv', 'a', newline='')\n",
    "with file:\n",
    "    writer = csv.writer(file)\n",
    "    writer.writerow(to_append.split())\n",
    "live_data = pd.read_csv('predict.csv')\n",
    "live_data = live_data.drop(['filename'],axis=1)\n"
   ]
  },
  {
   "cell_type": "code",
   "execution_count": 220,
   "metadata": {},
   "outputs": [
    {
     "name": "stdout",
     "output_type": "stream",
     "text": [
      "[[ 4.03602093e-01  3.08599807e-02  1.27840271e+03  1.89391820e+03\n",
      "   2.84352926e+03  2.79744466e-02 -3.27495880e+02  1.39179581e+02\n",
      "   2.29816246e+00  3.23627853e+01  1.28940499e+00  4.80220222e+00\n",
      "   8.06971645e+00  1.13445997e+00 -5.69381142e+00  4.74652529e+00\n",
      "  -2.74218798e+00  8.24208736e+00  5.86956692e+00  8.74790192e-01\n",
      "   4.65812778e+00  5.99671316e+00 -6.22864103e+00  6.72868061e+00\n",
      "  -4.52223206e+00  1.66765010e+00]]\n",
      "Predicted=[1]\n"
     ]
    }
   ],
   "source": [
    "#print(live_data.iloc[0][0:26])\n",
    "Xnew = np.array([live_data.iloc[0][0:26]])\n",
    "print(Xnew)\n",
    "ynew = model.predict_classes(Xnew)\n",
    "print(\"Predicted=%s\" % (ynew))\n",
    "#live_data = data.drop(['filename'],axis=1)\n",
    "#print(model.predict(live_data.iloc[:, -1]))\n",
    "# print(type(live_data.iloc[0]))\n",
    "#print(model.predict_classes(live_data.iloc[0]))\n",
    "# print(live_data.iloc[0])"
   ]
  },
  {
   "cell_type": "code",
   "execution_count": null,
   "metadata": {},
   "outputs": [],
   "source": []
  },
  {
   "cell_type": "code",
   "execution_count": null,
   "metadata": {},
   "outputs": [],
   "source": []
  }
 ],
 "metadata": {
  "kernelspec": {
   "display_name": "Python 3",
   "language": "python",
   "name": "python3"
  },
  "language_info": {
   "codemirror_mode": {
    "name": "ipython",
    "version": 3
   },
   "file_extension": ".py",
   "mimetype": "text/x-python",
   "name": "python",
   "nbconvert_exporter": "python",
   "pygments_lexer": "ipython3",
   "version": "3.7.3"
  }
 },
 "nbformat": 4,
 "nbformat_minor": 2
}
